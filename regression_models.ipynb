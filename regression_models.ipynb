{
 "cells": [
  {
   "cell_type": "code",
   "execution_count": 243,
   "metadata": {},
   "outputs": [],
   "source": [
    "# Initial imports\n",
    "from pathlib import Path\n",
    "import pandas as pd\n",
    "import matplotlib.pyplot as plt\n",
    "import numpy as np\n",
    "import os\n",
    "%matplotlib inline\n",
    "from sklearn.preprocessing import StandardScaler\n",
    "from sklearn.model_selection import train_test_split\n",
    "from sklearn.ensemble import GradientBoostingRegressor\n",
    "from sklearn.metrics import mean_squared_error, r2_score\n",
    "from sklearn.linear_model import LinearRegression\n",
    "from sklearn.tree import DecisionTreeRegressor\n",
    "from sklearn.model_selection import cross_val_score\n",
    "from sklearn.model_selection import RepeatedKFold\n",
    "from numpy import absolute\n",
    "from numpy import mean\n",
    "from numpy import std\n",
    "from sklearn import tree\n",
    "import pydotplus\n",
    "from IPython.display import Image"
   ]
  },
  {
   "cell_type": "code",
   "execution_count": 2,
   "metadata": {},
   "outputs": [
    {
     "data": {
      "text/html": [
       "<div>\n",
       "<style scoped>\n",
       "    .dataframe tbody tr th:only-of-type {\n",
       "        vertical-align: middle;\n",
       "    }\n",
       "\n",
       "    .dataframe tbody tr th {\n",
       "        vertical-align: top;\n",
       "    }\n",
       "\n",
       "    .dataframe thead th {\n",
       "        text-align: right;\n",
       "    }\n",
       "</style>\n",
       "<table border=\"1\" class=\"dataframe\">\n",
       "  <thead>\n",
       "    <tr style=\"text-align: right;\">\n",
       "      <th></th>\n",
       "      <th>DJIA</th>\n",
       "      <th>DIJA_open</th>\n",
       "      <th>DIJA_high</th>\n",
       "      <th>DIJA_Low</th>\n",
       "      <th>DIJA_vol</th>\n",
       "      <th>DIJA_pct_change</th>\n",
       "      <th>NASDAQ</th>\n",
       "      <th>NASDAQ_open</th>\n",
       "      <th>NASDAQ_high</th>\n",
       "      <th>NASDAQ_low</th>\n",
       "      <th>...</th>\n",
       "      <th>BTC_low</th>\n",
       "      <th>BTC_vol</th>\n",
       "      <th>BTC_pct_change</th>\n",
       "      <th>GDP</th>\n",
       "      <th>CPI</th>\n",
       "      <th>IPI</th>\n",
       "      <th>UNEMP</th>\n",
       "      <th>NFP</th>\n",
       "      <th>IUC</th>\n",
       "      <th>FED</th>\n",
       "    </tr>\n",
       "    <tr>\n",
       "      <th>date</th>\n",
       "      <th></th>\n",
       "      <th></th>\n",
       "      <th></th>\n",
       "      <th></th>\n",
       "      <th></th>\n",
       "      <th></th>\n",
       "      <th></th>\n",
       "      <th></th>\n",
       "      <th></th>\n",
       "      <th></th>\n",
       "      <th></th>\n",
       "      <th></th>\n",
       "      <th></th>\n",
       "      <th></th>\n",
       "      <th></th>\n",
       "      <th></th>\n",
       "      <th></th>\n",
       "      <th></th>\n",
       "      <th></th>\n",
       "      <th></th>\n",
       "      <th></th>\n",
       "    </tr>\n",
       "  </thead>\n",
       "  <tbody>\n",
       "    <tr>\n",
       "      <th>2016-01-04</th>\n",
       "      <td>17148.94</td>\n",
       "      <td>17405.48</td>\n",
       "      <td>17405.48</td>\n",
       "      <td>16957.63</td>\n",
       "      <td>148060000.0</td>\n",
       "      <td>-1.58</td>\n",
       "      <td>4903.09</td>\n",
       "      <td>4897.65</td>\n",
       "      <td>4903.09</td>\n",
       "      <td>4846.98</td>\n",
       "      <td>...</td>\n",
       "      <td>427.0</td>\n",
       "      <td>13020.0</td>\n",
       "      <td>0.99</td>\n",
       "      <td>18382.82</td>\n",
       "      <td>237.80</td>\n",
       "      <td>102.88</td>\n",
       "      <td>4.9</td>\n",
       "      <td>143195.45</td>\n",
       "      <td>276142.86</td>\n",
       "      <td>4486600.57</td>\n",
       "    </tr>\n",
       "    <tr>\n",
       "      <th>2016-01-05</th>\n",
       "      <td>17158.66</td>\n",
       "      <td>17147.50</td>\n",
       "      <td>17195.84</td>\n",
       "      <td>17038.61</td>\n",
       "      <td>105750000.0</td>\n",
       "      <td>0.06</td>\n",
       "      <td>4891.43</td>\n",
       "      <td>4917.84</td>\n",
       "      <td>4926.73</td>\n",
       "      <td>4872.74</td>\n",
       "      <td>...</td>\n",
       "      <td>428.2</td>\n",
       "      <td>11220.0</td>\n",
       "      <td>-0.24</td>\n",
       "      <td>18383.82</td>\n",
       "      <td>237.79</td>\n",
       "      <td>102.86</td>\n",
       "      <td>4.9</td>\n",
       "      <td>143203.94</td>\n",
       "      <td>277714.29</td>\n",
       "      <td>4486603.29</td>\n",
       "    </tr>\n",
       "    <tr>\n",
       "      <th>2016-01-06</th>\n",
       "      <td>16906.51</td>\n",
       "      <td>17154.83</td>\n",
       "      <td>17154.83</td>\n",
       "      <td>16817.62</td>\n",
       "      <td>120250000.0</td>\n",
       "      <td>-1.47</td>\n",
       "      <td>4835.77</td>\n",
       "      <td>4813.76</td>\n",
       "      <td>4866.04</td>\n",
       "      <td>4804.69</td>\n",
       "      <td>...</td>\n",
       "      <td>425.0</td>\n",
       "      <td>8740.0</td>\n",
       "      <td>-0.89</td>\n",
       "      <td>18384.82</td>\n",
       "      <td>237.78</td>\n",
       "      <td>102.83</td>\n",
       "      <td>4.9</td>\n",
       "      <td>143212.42</td>\n",
       "      <td>279285.71</td>\n",
       "      <td>4486606.00</td>\n",
       "    </tr>\n",
       "    <tr>\n",
       "      <th>2016-01-07</th>\n",
       "      <td>16514.10</td>\n",
       "      <td>16888.36</td>\n",
       "      <td>16888.36</td>\n",
       "      <td>16463.63</td>\n",
       "      <td>176240000.0</td>\n",
       "      <td>-2.32</td>\n",
       "      <td>4689.43</td>\n",
       "      <td>4736.40</td>\n",
       "      <td>4788.02</td>\n",
       "      <td>4688.17</td>\n",
       "      <td>...</td>\n",
       "      <td>427.1</td>\n",
       "      <td>55660.0</td>\n",
       "      <td>7.26</td>\n",
       "      <td>18385.83</td>\n",
       "      <td>237.77</td>\n",
       "      <td>102.81</td>\n",
       "      <td>4.9</td>\n",
       "      <td>143220.90</td>\n",
       "      <td>280857.14</td>\n",
       "      <td>4488761.57</td>\n",
       "    </tr>\n",
       "    <tr>\n",
       "      <th>2016-01-08</th>\n",
       "      <td>16346.45</td>\n",
       "      <td>16519.17</td>\n",
       "      <td>16651.89</td>\n",
       "      <td>16314.57</td>\n",
       "      <td>141850000.0</td>\n",
       "      <td>-1.02</td>\n",
       "      <td>4643.63</td>\n",
       "      <td>4722.02</td>\n",
       "      <td>4742.57</td>\n",
       "      <td>4637.85</td>\n",
       "      <td>...</td>\n",
       "      <td>446.8</td>\n",
       "      <td>30450.0</td>\n",
       "      <td>-1.10</td>\n",
       "      <td>18386.83</td>\n",
       "      <td>237.76</td>\n",
       "      <td>102.79</td>\n",
       "      <td>4.9</td>\n",
       "      <td>143229.39</td>\n",
       "      <td>282428.57</td>\n",
       "      <td>4490917.14</td>\n",
       "    </tr>\n",
       "  </tbody>\n",
       "</table>\n",
       "<p>5 rows × 63 columns</p>\n",
       "</div>"
      ],
      "text/plain": [
       "                DJIA  DIJA_open  DIJA_high  DIJA_Low     DIJA_vol  \\\n",
       "date                                                                \n",
       "2016-01-04  17148.94   17405.48   17405.48  16957.63  148060000.0   \n",
       "2016-01-05  17158.66   17147.50   17195.84  17038.61  105750000.0   \n",
       "2016-01-06  16906.51   17154.83   17154.83  16817.62  120250000.0   \n",
       "2016-01-07  16514.10   16888.36   16888.36  16463.63  176240000.0   \n",
       "2016-01-08  16346.45   16519.17   16651.89  16314.57  141850000.0   \n",
       "\n",
       "            DIJA_pct_change   NASDAQ  NASDAQ_open  NASDAQ_high  NASDAQ_low  \\\n",
       "date                                                                         \n",
       "2016-01-04            -1.58  4903.09      4897.65      4903.09     4846.98   \n",
       "2016-01-05             0.06  4891.43      4917.84      4926.73     4872.74   \n",
       "2016-01-06            -1.47  4835.77      4813.76      4866.04     4804.69   \n",
       "2016-01-07            -2.32  4689.43      4736.40      4788.02     4688.17   \n",
       "2016-01-08            -1.02  4643.63      4722.02      4742.57     4637.85   \n",
       "\n",
       "            ...  BTC_low  BTC_vol  BTC_pct_change       GDP     CPI     IPI  \\\n",
       "date        ...                                                               \n",
       "2016-01-04  ...    427.0  13020.0            0.99  18382.82  237.80  102.88   \n",
       "2016-01-05  ...    428.2  11220.0           -0.24  18383.82  237.79  102.86   \n",
       "2016-01-06  ...    425.0   8740.0           -0.89  18384.82  237.78  102.83   \n",
       "2016-01-07  ...    427.1  55660.0            7.26  18385.83  237.77  102.81   \n",
       "2016-01-08  ...    446.8  30450.0           -1.10  18386.83  237.76  102.79   \n",
       "\n",
       "            UNEMP        NFP        IUC         FED  \n",
       "date                                                 \n",
       "2016-01-04    4.9  143195.45  276142.86  4486600.57  \n",
       "2016-01-05    4.9  143203.94  277714.29  4486603.29  \n",
       "2016-01-06    4.9  143212.42  279285.71  4486606.00  \n",
       "2016-01-07    4.9  143220.90  280857.14  4488761.57  \n",
       "2016-01-08    4.9  143229.39  282428.57  4490917.14  \n",
       "\n",
       "[5 rows x 63 columns]"
      ]
     },
     "execution_count": 2,
     "metadata": {},
     "output_type": "execute_result"
    }
   ],
   "source": [
    "# Read in data, convert date column to datetime format, set date column as index\n",
    "data = Path(\"Data/2_deep_learning/combined_data_df.csv\")\n",
    "data_df = pd.read_csv(data)\n",
    "data_df['date'] = pd.to_datetime(data_df['date'])\n",
    "data_df = data_df.set_index('date')\n",
    "data_df.head()"
   ]
  },
  {
   "cell_type": "code",
   "execution_count": 3,
   "metadata": {},
   "outputs": [
    {
     "data": {
      "text/html": [
       "<div>\n",
       "<style scoped>\n",
       "    .dataframe tbody tr th:only-of-type {\n",
       "        vertical-align: middle;\n",
       "    }\n",
       "\n",
       "    .dataframe tbody tr th {\n",
       "        vertical-align: top;\n",
       "    }\n",
       "\n",
       "    .dataframe thead th {\n",
       "        text-align: right;\n",
       "    }\n",
       "</style>\n",
       "<table border=\"1\" class=\"dataframe\">\n",
       "  <thead>\n",
       "    <tr style=\"text-align: right;\">\n",
       "      <th></th>\n",
       "      <th>DJIA</th>\n",
       "      <th>DIJA_open</th>\n",
       "      <th>DIJA_high</th>\n",
       "      <th>DIJA_Low</th>\n",
       "      <th>DIJA_vol</th>\n",
       "      <th>DIJA_pct_change</th>\n",
       "      <th>NASDAQ</th>\n",
       "      <th>NASDAQ_open</th>\n",
       "      <th>NASDAQ_high</th>\n",
       "      <th>NASDAQ_low</th>\n",
       "      <th>...</th>\n",
       "      <th>BTC_vol</th>\n",
       "      <th>BTC_pct_change</th>\n",
       "      <th>GDP</th>\n",
       "      <th>CPI</th>\n",
       "      <th>IPI</th>\n",
       "      <th>UNEMP</th>\n",
       "      <th>NFP</th>\n",
       "      <th>IUC</th>\n",
       "      <th>FED</th>\n",
       "      <th>BTC</th>\n",
       "    </tr>\n",
       "    <tr>\n",
       "      <th>date</th>\n",
       "      <th></th>\n",
       "      <th></th>\n",
       "      <th></th>\n",
       "      <th></th>\n",
       "      <th></th>\n",
       "      <th></th>\n",
       "      <th></th>\n",
       "      <th></th>\n",
       "      <th></th>\n",
       "      <th></th>\n",
       "      <th></th>\n",
       "      <th></th>\n",
       "      <th></th>\n",
       "      <th></th>\n",
       "      <th></th>\n",
       "      <th></th>\n",
       "      <th></th>\n",
       "      <th></th>\n",
       "      <th></th>\n",
       "      <th></th>\n",
       "      <th></th>\n",
       "    </tr>\n",
       "  </thead>\n",
       "  <tbody>\n",
       "    <tr>\n",
       "      <th>2016-01-04</th>\n",
       "      <td>17148.94</td>\n",
       "      <td>17405.48</td>\n",
       "      <td>17405.48</td>\n",
       "      <td>16957.63</td>\n",
       "      <td>148060000.0</td>\n",
       "      <td>-1.58</td>\n",
       "      <td>4903.09</td>\n",
       "      <td>4897.65</td>\n",
       "      <td>4903.09</td>\n",
       "      <td>4846.98</td>\n",
       "      <td>...</td>\n",
       "      <td>13020.0</td>\n",
       "      <td>0.99</td>\n",
       "      <td>18382.82</td>\n",
       "      <td>237.80</td>\n",
       "      <td>102.88</td>\n",
       "      <td>4.9</td>\n",
       "      <td>143195.45</td>\n",
       "      <td>276142.86</td>\n",
       "      <td>4486600.57</td>\n",
       "      <td>432.9</td>\n",
       "    </tr>\n",
       "    <tr>\n",
       "      <th>2016-01-05</th>\n",
       "      <td>17158.66</td>\n",
       "      <td>17147.50</td>\n",
       "      <td>17195.84</td>\n",
       "      <td>17038.61</td>\n",
       "      <td>105750000.0</td>\n",
       "      <td>0.06</td>\n",
       "      <td>4891.43</td>\n",
       "      <td>4917.84</td>\n",
       "      <td>4926.73</td>\n",
       "      <td>4872.74</td>\n",
       "      <td>...</td>\n",
       "      <td>11220.0</td>\n",
       "      <td>-0.24</td>\n",
       "      <td>18383.82</td>\n",
       "      <td>237.79</td>\n",
       "      <td>102.86</td>\n",
       "      <td>4.9</td>\n",
       "      <td>143203.94</td>\n",
       "      <td>277714.29</td>\n",
       "      <td>4486603.29</td>\n",
       "      <td>431.8</td>\n",
       "    </tr>\n",
       "    <tr>\n",
       "      <th>2016-01-06</th>\n",
       "      <td>16906.51</td>\n",
       "      <td>17154.83</td>\n",
       "      <td>17154.83</td>\n",
       "      <td>16817.62</td>\n",
       "      <td>120250000.0</td>\n",
       "      <td>-1.47</td>\n",
       "      <td>4835.77</td>\n",
       "      <td>4813.76</td>\n",
       "      <td>4866.04</td>\n",
       "      <td>4804.69</td>\n",
       "      <td>...</td>\n",
       "      <td>8740.0</td>\n",
       "      <td>-0.89</td>\n",
       "      <td>18384.82</td>\n",
       "      <td>237.78</td>\n",
       "      <td>102.83</td>\n",
       "      <td>4.9</td>\n",
       "      <td>143212.42</td>\n",
       "      <td>279285.71</td>\n",
       "      <td>4486606.00</td>\n",
       "      <td>428.0</td>\n",
       "    </tr>\n",
       "    <tr>\n",
       "      <th>2016-01-07</th>\n",
       "      <td>16514.10</td>\n",
       "      <td>16888.36</td>\n",
       "      <td>16888.36</td>\n",
       "      <td>16463.63</td>\n",
       "      <td>176240000.0</td>\n",
       "      <td>-2.32</td>\n",
       "      <td>4689.43</td>\n",
       "      <td>4736.40</td>\n",
       "      <td>4788.02</td>\n",
       "      <td>4688.17</td>\n",
       "      <td>...</td>\n",
       "      <td>55660.0</td>\n",
       "      <td>7.26</td>\n",
       "      <td>18385.83</td>\n",
       "      <td>237.77</td>\n",
       "      <td>102.81</td>\n",
       "      <td>4.9</td>\n",
       "      <td>143220.90</td>\n",
       "      <td>280857.14</td>\n",
       "      <td>4488761.57</td>\n",
       "      <td>459.0</td>\n",
       "    </tr>\n",
       "    <tr>\n",
       "      <th>2016-01-08</th>\n",
       "      <td>16346.45</td>\n",
       "      <td>16519.17</td>\n",
       "      <td>16651.89</td>\n",
       "      <td>16314.57</td>\n",
       "      <td>141850000.0</td>\n",
       "      <td>-1.02</td>\n",
       "      <td>4643.63</td>\n",
       "      <td>4722.02</td>\n",
       "      <td>4742.57</td>\n",
       "      <td>4637.85</td>\n",
       "      <td>...</td>\n",
       "      <td>30450.0</td>\n",
       "      <td>-1.10</td>\n",
       "      <td>18386.83</td>\n",
       "      <td>237.76</td>\n",
       "      <td>102.79</td>\n",
       "      <td>4.9</td>\n",
       "      <td>143229.39</td>\n",
       "      <td>282428.57</td>\n",
       "      <td>4490917.14</td>\n",
       "      <td>454.0</td>\n",
       "    </tr>\n",
       "  </tbody>\n",
       "</table>\n",
       "<p>5 rows × 63 columns</p>\n",
       "</div>"
      ],
      "text/plain": [
       "                DJIA  DIJA_open  DIJA_high  DIJA_Low     DIJA_vol  \\\n",
       "date                                                                \n",
       "2016-01-04  17148.94   17405.48   17405.48  16957.63  148060000.0   \n",
       "2016-01-05  17158.66   17147.50   17195.84  17038.61  105750000.0   \n",
       "2016-01-06  16906.51   17154.83   17154.83  16817.62  120250000.0   \n",
       "2016-01-07  16514.10   16888.36   16888.36  16463.63  176240000.0   \n",
       "2016-01-08  16346.45   16519.17   16651.89  16314.57  141850000.0   \n",
       "\n",
       "            DIJA_pct_change   NASDAQ  NASDAQ_open  NASDAQ_high  NASDAQ_low  \\\n",
       "date                                                                         \n",
       "2016-01-04            -1.58  4903.09      4897.65      4903.09     4846.98   \n",
       "2016-01-05             0.06  4891.43      4917.84      4926.73     4872.74   \n",
       "2016-01-06            -1.47  4835.77      4813.76      4866.04     4804.69   \n",
       "2016-01-07            -2.32  4689.43      4736.40      4788.02     4688.17   \n",
       "2016-01-08            -1.02  4643.63      4722.02      4742.57     4637.85   \n",
       "\n",
       "            ...  BTC_vol  BTC_pct_change       GDP     CPI     IPI  UNEMP  \\\n",
       "date        ...                                                             \n",
       "2016-01-04  ...  13020.0            0.99  18382.82  237.80  102.88    4.9   \n",
       "2016-01-05  ...  11220.0           -0.24  18383.82  237.79  102.86    4.9   \n",
       "2016-01-06  ...   8740.0           -0.89  18384.82  237.78  102.83    4.9   \n",
       "2016-01-07  ...  55660.0            7.26  18385.83  237.77  102.81    4.9   \n",
       "2016-01-08  ...  30450.0           -1.10  18386.83  237.76  102.79    4.9   \n",
       "\n",
       "                  NFP        IUC         FED    BTC  \n",
       "date                                                 \n",
       "2016-01-04  143195.45  276142.86  4486600.57  432.9  \n",
       "2016-01-05  143203.94  277714.29  4486603.29  431.8  \n",
       "2016-01-06  143212.42  279285.71  4486606.00  428.0  \n",
       "2016-01-07  143220.90  280857.14  4488761.57  459.0  \n",
       "2016-01-08  143229.39  282428.57  4490917.14  454.0  \n",
       "\n",
       "[5 rows x 63 columns]"
      ]
     },
     "execution_count": 3,
     "metadata": {},
     "output_type": "execute_result"
    }
   ],
   "source": [
    "# Move BTC column to the end\n",
    "df1 = data_df.pop('BTC') # remove column b and store it in df1\n",
    "data_df['BTC']=df1 # add b series as a 'new' column.\n",
    "data_df.head()"
   ]
  },
  {
   "cell_type": "code",
   "execution_count": null,
   "metadata": {},
   "outputs": [],
   "source": [
    "#Make a list of all of the columns in the dataframe and get the total number of columns\n",
    "cols = list(data_df.columns.values)\n",
    "len(cols)"
   ]
  },
  {
   "cell_type": "markdown",
   "metadata": {},
   "source": [
    "# Linear Regression, Gradient Boosting Regression, & Deep Tree Regression with K-Fold Cross-Validation"
   ]
  },
  {
   "cell_type": "code",
   "execution_count": 260,
   "metadata": {},
   "outputs": [
    {
     "data": {
      "text/plain": [
       "array([[1.7148940e+04, 1.7405480e+04, 1.7405480e+04, ..., 4.9000000e+00,\n",
       "        1.4319545e+05, 2.7614286e+05],\n",
       "       [1.7158660e+04, 1.7147500e+04, 1.7195840e+04, ..., 4.9000000e+00,\n",
       "        1.4320394e+05, 2.7771429e+05],\n",
       "       [1.6906510e+04, 1.7154830e+04, 1.7154830e+04, ..., 4.9000000e+00,\n",
       "        1.4321242e+05, 2.7928571e+05],\n",
       "       ...,\n",
       "       [2.5402380e+04, 2.5315530e+04, 2.5614660e+04, ..., 1.0290000e+01,\n",
       "        1.3940570e+05, 1.3940000e+06],\n",
       "       [2.5595800e+04, 2.5152450e+04, 2.5601150e+04, ..., 1.0260000e+01,\n",
       "        1.3946447e+05, 1.3800000e+06],\n",
       "       [2.5812880e+04, 2.5512430e+04, 2.5905380e+04, ..., 1.0230000e+01,\n",
       "        1.3952323e+05, 1.3660000e+06]])"
      ]
     },
     "execution_count": 260,
     "metadata": {},
     "output_type": "execute_result"
    }
   ],
   "source": [
    "# Create the features (X) and target (y) sets\n",
    "X = data_df.iloc[:, 0:61].values\n",
    "y = data_df[\"BTC\"].values.reshape(-1,1)\n",
    "X"
   ]
  },
  {
   "cell_type": "code",
   "execution_count": 261,
   "metadata": {},
   "outputs": [],
   "source": [
    "# Splitting into Train and Test sets\n",
    "X_train, X_test, y_train, y_test = train_test_split(X, y, random_state=1)"
   ]
  },
  {
   "cell_type": "code",
   "execution_count": 265,
   "metadata": {},
   "outputs": [],
   "source": [
    "# Creating StandardScaler instance\n",
    "scaler = StandardScaler()"
   ]
  },
  {
   "cell_type": "code",
   "execution_count": 266,
   "metadata": {},
   "outputs": [],
   "source": [
    "# Fitting Standard Scaler\n",
    "# Fitting Standard Scaler\n",
    "X_scaler = scaler.fit(X_train)\n"
   ]
  },
  {
   "cell_type": "code",
   "execution_count": 267,
   "metadata": {},
   "outputs": [],
   "source": [
    "# Scaling data\n",
    "X_train_scaled = X_scaler.transform(X_train)\n",
    "X_test_scaled = X_scaler.transform(X_test)"
   ]
  },
  {
   "cell_type": "code",
   "execution_count": 187,
   "metadata": {},
   "outputs": [
    {
     "name": "stdout",
     "output_type": "stream",
     "text": [
      "Learning rate:  0.05\n",
      "Accuracy score (training): 1.000\n",
      "Accuracy score (validation): 0.998\n",
      "\n",
      "Learning rate:  0.1\n",
      "Accuracy score (training): 1.000\n",
      "Accuracy score (validation): 0.999\n",
      "\n",
      "Learning rate:  0.25\n",
      "Accuracy score (training): 1.000\n",
      "Accuracy score (validation): 0.998\n",
      "\n",
      "Learning rate:  0.5\n",
      "Accuracy score (training): 1.000\n",
      "Accuracy score (validation): 0.996\n",
      "\n",
      "Learning rate:  0.75\n",
      "Accuracy score (training): 1.000\n",
      "Accuracy score (validation): 0.995\n",
      "\n",
      "Learning rate:  1\n",
      "Accuracy score (training): 1.000\n",
      "Accuracy score (validation): 0.992\n",
      "\n"
     ]
    }
   ],
   "source": [
    "# Create a classifier object\n",
    "learning_rates = [0.05, 0.1, 0.25, 0.5, 0.75, 1]\n",
    "for learning_rate in learning_rates:\n",
    "    model_gbooster = GradientBoostingRegressor(n_estimators=100,\n",
    "                                            learning_rate=learning_rate,\n",
    "                                            max_features=61,\n",
    "                                            max_depth=3,\n",
    "                                            random_state=1)\n",
    "\n",
    "    # Fit the model\n",
    "    model_gbooster.fit(X_train_scaled, y_train.ravel())\n",
    "    print(\"Learning rate: \", learning_rate)\n",
    "\n",
    "    # Score the model\n",
    "    print(\"Accuracy score (training): {0:.3f}\".format(\n",
    "        model_gbooster.score(\n",
    "            X_train_scaled,\n",
    "            y_train.ravel())))\n",
    "    print(\"Accuracy score (validation): {0:.3f}\".format(\n",
    "        model_gbooster.score(\n",
    "            X_test_scaled,\n",
    "            y_test.ravel())))\n",
    "    print()"
   ]
  },
  {
   "cell_type": "code",
   "execution_count": 271,
   "metadata": {},
   "outputs": [
    {
     "data": {
      "text/html": [
       "<div>\n",
       "<style scoped>\n",
       "    .dataframe tbody tr th:only-of-type {\n",
       "        vertical-align: middle;\n",
       "    }\n",
       "\n",
       "    .dataframe tbody tr th {\n",
       "        vertical-align: top;\n",
       "    }\n",
       "\n",
       "    .dataframe thead th {\n",
       "        text-align: right;\n",
       "    }\n",
       "</style>\n",
       "<table border=\"1\" class=\"dataframe\">\n",
       "  <thead>\n",
       "    <tr style=\"text-align: right;\">\n",
       "      <th></th>\n",
       "      <th>Prediction</th>\n",
       "      <th>Actual</th>\n",
       "    </tr>\n",
       "  </thead>\n",
       "  <tbody>\n",
       "    <tr>\n",
       "      <th>0</th>\n",
       "      <td>713.485730</td>\n",
       "      <td>705.9</td>\n",
       "    </tr>\n",
       "    <tr>\n",
       "      <th>1</th>\n",
       "      <td>732.772527</td>\n",
       "      <td>731.0</td>\n",
       "    </tr>\n",
       "    <tr>\n",
       "      <th>2</th>\n",
       "      <td>695.296653</td>\n",
       "      <td>688.7</td>\n",
       "    </tr>\n",
       "    <tr>\n",
       "      <th>3</th>\n",
       "      <td>14634.508359</td>\n",
       "      <td>14709.8</td>\n",
       "    </tr>\n",
       "    <tr>\n",
       "      <th>4</th>\n",
       "      <td>574.850672</td>\n",
       "      <td>572.7</td>\n",
       "    </tr>\n",
       "    <tr>\n",
       "      <th>...</th>\n",
       "      <td>...</td>\n",
       "      <td>...</td>\n",
       "    </tr>\n",
       "    <tr>\n",
       "      <th>405</th>\n",
       "      <td>1436.520397</td>\n",
       "      <td>1423.6</td>\n",
       "    </tr>\n",
       "    <tr>\n",
       "      <th>406</th>\n",
       "      <td>449.440008</td>\n",
       "      <td>450.4</td>\n",
       "    </tr>\n",
       "    <tr>\n",
       "      <th>407</th>\n",
       "      <td>3671.940537</td>\n",
       "      <td>3749.3</td>\n",
       "    </tr>\n",
       "    <tr>\n",
       "      <th>408</th>\n",
       "      <td>2345.028556</td>\n",
       "      <td>2329.0</td>\n",
       "    </tr>\n",
       "    <tr>\n",
       "      <th>409</th>\n",
       "      <td>429.281739</td>\n",
       "      <td>427.4</td>\n",
       "    </tr>\n",
       "  </tbody>\n",
       "</table>\n",
       "<p>410 rows × 2 columns</p>\n",
       "</div>"
      ],
      "text/plain": [
       "       Prediction   Actual\n",
       "0      713.485730    705.9\n",
       "1      732.772527    731.0\n",
       "2      695.296653    688.7\n",
       "3    14634.508359  14709.8\n",
       "4      574.850672    572.7\n",
       "..            ...      ...\n",
       "405   1436.520397   1423.6\n",
       "406    449.440008    450.4\n",
       "407   3671.940537   3749.3\n",
       "408   2345.028556   2329.0\n",
       "409    429.281739    427.4\n",
       "\n",
       "[410 rows x 2 columns]"
      ]
     },
     "execution_count": 271,
     "metadata": {},
     "output_type": "execute_result"
    }
   ],
   "source": [
    "# Choose a learning rate and create classifier\n",
    "model_gbooster = GradientBoostingRegressor(n_estimators=100,\n",
    "                                            learning_rate=0.1,\n",
    "                                            max_features=61,\n",
    "                                            max_depth=5,\n",
    "                                            random_state=1)\n",
    "\n",
    "# Fit the model\n",
    "model_gbooster.fit(X_train_scaled, y_train.ravel())\n",
    "\n",
    "# Make Prediction\n",
    "gbooster_predictions = model_gbooster.predict(X_test_scaled)\n",
    "Results_gbooster=pd.DataFrame({\"Prediction\": gbooster_predictions, \"Actual\": y_test.ravel()})\n",
    "Results_gbooster"
   ]
  },
  {
   "cell_type": "code",
   "execution_count": 255,
   "metadata": {},
   "outputs": [
    {
     "name": "stdout",
     "output_type": "stream",
     "text": [
      "Mean Squared Error : 22368.47688672606\n"
     ]
    }
   ],
   "source": [
    "gbooster_mean_squared_error = mean_squared_error(y_test.ravel(), gbooster_predictions)\n",
    "print(f\"Mean Squared Error : {gbooster_mean_squared_error}\")"
   ]
  },
  {
   "cell_type": "code",
   "execution_count": 256,
   "metadata": {},
   "outputs": [
    {
     "name": "stdout",
     "output_type": "stream",
     "text": [
      "Out-of-Sample Root Mean Squared Error (RMSE): 149.56094706415195\n"
     ]
    }
   ],
   "source": [
    "gbooster_mse = mean_squared_error(\n",
    "    Results_gbooster[\"Prediction\"],\n",
    "    Results_gbooster[\"Actual\"]\n",
    ")\n",
    "\n",
    "# Using that mean-squared-error, calculate the root-mean-squared error (RMSE):\n",
    "out_of_sample_rmse = np.sqrt(gbooster_mse)\n",
    "print(f\"Out-of-Sample Root Mean Squared Error (RMSE): {out_of_sample_rmse}\")"
   ]
  },
  {
   "cell_type": "code",
   "execution_count": null,
   "metadata": {},
   "outputs": [],
   "source": []
  },
  {
   "cell_type": "code",
   "execution_count": 258,
   "metadata": {},
   "outputs": [
    {
     "data": {
      "text/plain": [
       "array([<matplotlib.axes._subplots.AxesSubplot object at 0x00000244037FFB88>,\n",
       "       <matplotlib.axes._subplots.AxesSubplot object at 0x0000024404822608>],\n",
       "      dtype=object)"
      ]
     },
     "execution_count": 258,
     "metadata": {},
     "output_type": "execute_result"
    },
    {
     "data": {
      "image/png": "[encoded data removed]",
      "text/plain": [
       "<Figure size 432x288 with 2 Axes>"
      ]
     },
     "metadata": {
      "needs_background": "light"
     },
     "output_type": "display_data"
    }
   ],
   "source": [
    "Results_gbooster[:100].plot(subplots=True)"
   ]
  },
  {
   "cell_type": "code",
   "execution_count": null,
   "metadata": {},
   "outputs": [],
   "source": []
  },
  {
   "cell_type": "code",
   "execution_count": 220,
   "metadata": {},
   "outputs": [
    {
     "data": {
      "text/plain": [
       "LinearRegression()"
      ]
     },
     "execution_count": 220,
     "metadata": {},
     "output_type": "execute_result"
    }
   ],
   "source": [
    "# Train the Linear Regression model using the resampled data\n",
    "model_lr = LinearRegression()\n",
    "model_lr.fit(X_train_scaled, y_train.ravel())"
   ]
  },
  {
   "cell_type": "code",
   "execution_count": 221,
   "metadata": {},
   "outputs": [
    {
     "data": {
      "text/plain": [
       "LinearRegression()"
      ]
     },
     "execution_count": 221,
     "metadata": {},
     "output_type": "execute_result"
    }
   ],
   "source": [
    "# Fit the model\n",
    "model_lr.fit(X_train_scaled, y_train.ravel())"
   ]
  },
  {
   "cell_type": "code",
   "execution_count": 270,
   "metadata": {},
   "outputs": [
    {
     "data": {
      "text/html": [
       "<div>\n",
       "<style scoped>\n",
       "    .dataframe tbody tr th:only-of-type {\n",
       "        vertical-align: middle;\n",
       "    }\n",
       "\n",
       "    .dataframe tbody tr th {\n",
       "        vertical-align: top;\n",
       "    }\n",
       "\n",
       "    .dataframe thead th {\n",
       "        text-align: right;\n",
       "    }\n",
       "</style>\n",
       "<table border=\"1\" class=\"dataframe\">\n",
       "  <thead>\n",
       "    <tr style=\"text-align: right;\">\n",
       "      <th></th>\n",
       "      <th>Prediction</th>\n",
       "      <th>Actual</th>\n",
       "    </tr>\n",
       "  </thead>\n",
       "  <tbody>\n",
       "    <tr>\n",
       "      <th>0</th>\n",
       "      <td>781.496491</td>\n",
       "      <td>705.9</td>\n",
       "    </tr>\n",
       "    <tr>\n",
       "      <th>1</th>\n",
       "      <td>731.550750</td>\n",
       "      <td>731.0</td>\n",
       "    </tr>\n",
       "    <tr>\n",
       "      <th>2</th>\n",
       "      <td>690.679401</td>\n",
       "      <td>688.7</td>\n",
       "    </tr>\n",
       "    <tr>\n",
       "      <th>3</th>\n",
       "      <td>14509.742143</td>\n",
       "      <td>14709.8</td>\n",
       "    </tr>\n",
       "    <tr>\n",
       "      <th>4</th>\n",
       "      <td>556.263545</td>\n",
       "      <td>572.7</td>\n",
       "    </tr>\n",
       "    <tr>\n",
       "      <th>...</th>\n",
       "      <td>...</td>\n",
       "      <td>...</td>\n",
       "    </tr>\n",
       "    <tr>\n",
       "      <th>405</th>\n",
       "      <td>1412.447644</td>\n",
       "      <td>1423.6</td>\n",
       "    </tr>\n",
       "    <tr>\n",
       "      <th>406</th>\n",
       "      <td>492.890131</td>\n",
       "      <td>450.4</td>\n",
       "    </tr>\n",
       "    <tr>\n",
       "      <th>407</th>\n",
       "      <td>3793.659608</td>\n",
       "      <td>3749.3</td>\n",
       "    </tr>\n",
       "    <tr>\n",
       "      <th>408</th>\n",
       "      <td>2305.870888</td>\n",
       "      <td>2329.0</td>\n",
       "    </tr>\n",
       "    <tr>\n",
       "      <th>409</th>\n",
       "      <td>486.623000</td>\n",
       "      <td>427.4</td>\n",
       "    </tr>\n",
       "  </tbody>\n",
       "</table>\n",
       "<p>410 rows × 2 columns</p>\n",
       "</div>"
      ],
      "text/plain": [
       "       Prediction   Actual\n",
       "0      781.496491    705.9\n",
       "1      731.550750    731.0\n",
       "2      690.679401    688.7\n",
       "3    14509.742143  14709.8\n",
       "4      556.263545    572.7\n",
       "..            ...      ...\n",
       "405   1412.447644   1423.6\n",
       "406    492.890131    450.4\n",
       "407   3793.659608   3749.3\n",
       "408   2305.870888   2329.0\n",
       "409    486.623000    427.4\n",
       "\n",
       "[410 rows x 2 columns]"
      ]
     },
     "execution_count": 270,
     "metadata": {},
     "output_type": "execute_result"
    }
   ],
   "source": [
    "lr_predictions = model_lr.predict(X_test_scaled)\n",
    "Results_lr=pd.DataFrame({\"Prediction\": lr_predictions, \"Actual\": y_test.ravel()})\n",
    "Results_lr"
   ]
  },
  {
   "cell_type": "code",
   "execution_count": 223,
   "metadata": {},
   "outputs": [
    {
     "name": "stdout",
     "output_type": "stream",
     "text": [
      "Mean Squared Error : 12245.602329009416\n"
     ]
    }
   ],
   "source": [
    "lr_mean_squared_error = mean_squared_error(y_test.ravel(), lr_predictions)\n",
    "print(f\"Mean Squared Error : {lr_mean_squared_error}\")"
   ]
  },
  {
   "cell_type": "code",
   "execution_count": 245,
   "metadata": {},
   "outputs": [
    {
     "name": "stdout",
     "output_type": "stream",
     "text": [
      "Out-of-Sample Root Mean Squared Error (RMSE): 95.94706143336633\n"
     ]
    }
   ],
   "source": [
    "lr_mse = mean_squared_error(\n",
    "    Results_lr[\"Prediction\"],\n",
    "    Results_lr[\"Actual\"]\n",
    ")\n",
    "\n",
    "# Using that mean-squared-error, calculate the root-mean-squared error (RMSE):\n",
    "out_of_sample_rmse = np.sqrt(lr_mse)\n",
    "print(f\"Out-of-Sample Root Mean Squared Error (RMSE): {out_of_sample_rmse}\")"
   ]
  },
  {
   "cell_type": "code",
   "execution_count": 281,
   "metadata": {},
   "outputs": [
    {
     "data": {
      "text/plain": [
       "array([<matplotlib.axes._subplots.AxesSubplot object at 0x0000024404D96D48>,\n",
       "       <matplotlib.axes._subplots.AxesSubplot object at 0x0000024404DC1048>],\n",
       "      dtype=object)"
      ]
     },
     "execution_count": 281,
     "metadata": {},
     "output_type": "execute_result"
    },
    {
     "data": {
      "image/png": "[encoded data removed]",
      "text/plain": [
       "<Figure size 432x288 with 2 Axes>"
      ]
     },
     "metadata": {
      "needs_background": "light"
     },
     "output_type": "display_data"
    }
   ],
   "source": [
    "Results_lr[:100].plot(subplots=True)"
   ]
  },
  {
   "cell_type": "code",
   "execution_count": null,
   "metadata": {},
   "outputs": [],
   "source": []
  },
  {
   "cell_type": "code",
   "execution_count": 212,
   "metadata": {},
   "outputs": [
    {
     "name": "stdout",
     "output_type": "stream",
     "text": [
      "MAE: 117.687 (91.078)\n"
     ]
    }
   ],
   "source": [
    "# define model\n",
    "dtr_model = DecisionTreeRegressor(random_state=1)\n",
    "\n",
    "# define the evaluation procedure\n",
    "cv = RepeatedKFold(n_splits=200, n_repeats=40, random_state=1)\n",
    "# evaluate the model and collect the scores\n",
    "n_scores = cross_val_score(dtr_model, X_train_scaled, y_train.ravel(), scoring='neg_mean_absolute_error', cv=cv, n_jobs=-1)\n",
    "# force the scores to be positive\n",
    "n_scores = absolute(n_scores)\n",
    "# summarize performance\n",
    "print('MAE: %.3f (%.3f)' % (mean(n_scores), std(n_scores)))"
   ]
  },
  {
   "cell_type": "code",
   "execution_count": 208,
   "metadata": {},
   "outputs": [],
   "source": [
    "#dtr_model.fit(X_train_scaled, y_train.ravel())"
   ]
  },
  {
   "cell_type": "code",
   "execution_count": 209,
   "metadata": {},
   "outputs": [],
   "source": [
    "dtr_predictions = dtr_model.predict(X_test_scaled)"
   ]
  },
  {
   "cell_type": "code",
   "execution_count": 272,
   "metadata": {},
   "outputs": [
    {
     "data": {
      "text/html": [
       "<div>\n",
       "<style scoped>\n",
       "    .dataframe tbody tr th:only-of-type {\n",
       "        vertical-align: middle;\n",
       "    }\n",
       "\n",
       "    .dataframe tbody tr th {\n",
       "        vertical-align: top;\n",
       "    }\n",
       "\n",
       "    .dataframe thead th {\n",
       "        text-align: right;\n",
       "    }\n",
       "</style>\n",
       "<table border=\"1\" class=\"dataframe\">\n",
       "  <thead>\n",
       "    <tr style=\"text-align: right;\">\n",
       "      <th></th>\n",
       "      <th>Prediction</th>\n",
       "      <th>Actual</th>\n",
       "    </tr>\n",
       "  </thead>\n",
       "  <tbody>\n",
       "    <tr>\n",
       "      <th>0</th>\n",
       "      <td>671.0</td>\n",
       "      <td>705.9</td>\n",
       "    </tr>\n",
       "    <tr>\n",
       "      <th>1</th>\n",
       "      <td>731.2</td>\n",
       "      <td>731.0</td>\n",
       "    </tr>\n",
       "    <tr>\n",
       "      <th>2</th>\n",
       "      <td>693.5</td>\n",
       "      <td>688.7</td>\n",
       "    </tr>\n",
       "    <tr>\n",
       "      <th>3</th>\n",
       "      <td>13800.0</td>\n",
       "      <td>14709.8</td>\n",
       "    </tr>\n",
       "    <tr>\n",
       "      <th>4</th>\n",
       "      <td>576.2</td>\n",
       "      <td>572.7</td>\n",
       "    </tr>\n",
       "    <tr>\n",
       "      <th>...</th>\n",
       "      <td>...</td>\n",
       "      <td>...</td>\n",
       "    </tr>\n",
       "    <tr>\n",
       "      <th>405</th>\n",
       "      <td>1435.2</td>\n",
       "      <td>1423.6</td>\n",
       "    </tr>\n",
       "    <tr>\n",
       "      <th>406</th>\n",
       "      <td>446.6</td>\n",
       "      <td>450.4</td>\n",
       "    </tr>\n",
       "    <tr>\n",
       "      <th>407</th>\n",
       "      <td>3639.1</td>\n",
       "      <td>3749.3</td>\n",
       "    </tr>\n",
       "    <tr>\n",
       "      <th>408</th>\n",
       "      <td>2249.3</td>\n",
       "      <td>2329.0</td>\n",
       "    </tr>\n",
       "    <tr>\n",
       "      <th>409</th>\n",
       "      <td>417.7</td>\n",
       "      <td>427.4</td>\n",
       "    </tr>\n",
       "  </tbody>\n",
       "</table>\n",
       "<p>410 rows × 2 columns</p>\n",
       "</div>"
      ],
      "text/plain": [
       "     Prediction   Actual\n",
       "0         671.0    705.9\n",
       "1         731.2    731.0\n",
       "2         693.5    688.7\n",
       "3       13800.0  14709.8\n",
       "4         576.2    572.7\n",
       "..          ...      ...\n",
       "405      1435.2   1423.6\n",
       "406       446.6    450.4\n",
       "407      3639.1   3749.3\n",
       "408      2249.3   2329.0\n",
       "409       417.7    427.4\n",
       "\n",
       "[410 rows x 2 columns]"
      ]
     },
     "execution_count": 272,
     "metadata": {},
     "output_type": "execute_result"
    }
   ],
   "source": [
    "Results_dtr=pd.DataFrame({\"Prediction\": dtr_predictions, \"Actual\": y_test.ravel()})\n",
    "Results_dtr"
   ]
  },
  {
   "cell_type": "code",
   "execution_count": 211,
   "metadata": {},
   "outputs": [
    {
     "name": "stdout",
     "output_type": "stream",
     "text": [
      "Mean Squared Error : 63760.011097560986\n"
     ]
    }
   ],
   "source": [
    "dtr_mean_squared_error = mean_squared_error(y_test.ravel(), dtr_predictions)\n",
    "print(f\"Mean Squared Error : {dtr_mean_squared_error}\")"
   ]
  },
  {
   "cell_type": "code",
   "execution_count": 250,
   "metadata": {},
   "outputs": [
    {
     "name": "stdout",
     "output_type": "stream",
     "text": [
      "Out-of-Sample Root Mean Squared Error (RMSE): 243.07426437202255\n"
     ]
    }
   ],
   "source": [
    "dtr_mse = mean_squared_error(\n",
    "    Results_dtr[\"Prediction\"],\n",
    "    Results_dtr[\"Actual\"]\n",
    ")\n",
    "\n",
    "# Using that mean-squared-error, calculate the root-mean-squared error (RMSE):\n",
    "out_of_sample_rmse = np.sqrt(dtr_mse)\n",
    "print(f\"Out-of-Sample Root Mean Squared Error (RMSE): {out_of_sample_rmse}\")"
   ]
  },
  {
   "cell_type": "code",
   "execution_count": 275,
   "metadata": {},
   "outputs": [
    {
     "data": {
      "text/plain": [
       "array([<matplotlib.axes._subplots.AxesSubplot object at 0x00000244049CD4C8>,\n",
       "       <matplotlib.axes._subplots.AxesSubplot object at 0x0000024404A01EC8>],\n",
       "      dtype=object)"
      ]
     },
     "execution_count": 275,
     "metadata": {},
     "output_type": "execute_result"
    },
    {
     "data": {
      "image/png": "[encoded data removed]",
      "text/plain": [
       "<Figure size 432x288 with 2 Axes>"
      ]
     },
     "metadata": {
      "needs_background": "light"
     },
     "output_type": "display_data"
    }
   ],
   "source": [
    "Results_dtr[:100].plot(subplots=True)"
   ]
  },
  {
   "cell_type": "code",
   "execution_count": null,
   "metadata": {},
   "outputs": [],
   "source": []
  }
 ],
 "metadata": {
  "kernelspec": {
   "display_name": "Python 3",
   "language": "python",
   "name": "python3"
  },
  "language_info": {
   "codemirror_mode": {
    "name": "ipython",
    "version": 3
   },
   "file_extension": ".py",
   "mimetype": "text/x-python",
   "name": "python",
   "nbconvert_exporter": "python",
   "pygments_lexer": "ipython3",
   "version": "3.7.7"
  }
 },
 "nbformat": 4,
 "nbformat_minor": 4
}
