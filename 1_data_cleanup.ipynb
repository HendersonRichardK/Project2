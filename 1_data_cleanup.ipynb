{
 "cells": [
  {
   "cell_type": "code",
   "execution_count": 217,
   "metadata": {},
   "outputs": [],
   "source": [
    "# Import libraries and dependencies\n",
    "import pandas as pd\n",
    "from pathlib import Path\n",
    "%matplotlib inline\n",
    "import os\n",
    "import pandas as pd\n",
    "import matplotlib.pyplot as plt"
   ]
  },
  {
   "cell_type": "markdown",
   "metadata": {},
   "source": [
    "# Data List:\n",
    "###### DJIA\n",
    "###### NASDAQ\n",
    "###### S&P500\n",
    "###### CBOE Volatility Index\n",
    "###### GOLD\n",
    "###### SILVER\n",
    "###### DOLLAR Index\n",
    "###### WTI Crude\n",
    "###### 10YR Bond Yield\n",
    "###### BTC Bitcoin\n",
    "###### GDP\n",
    "###### CPI\n",
    "###### IPI Industrial Production Index\n",
    "###### UNEMP Unemployment Rate\n",
    "###### NFP Non Farm Payrolls\n",
    "###### IUC Initial Unemployment Claims\n",
    "###### FED Total Assets"
   ]
  },
  {
   "cell_type": "markdown",
   "metadata": {},
   "source": [
    "# DJIA"
   ]
  },
  {
   "cell_type": "code",
   "execution_count": 179,
   "metadata": {},
   "outputs": [
    {
     "data": {
      "text/html": [
       "<div>\n",
       "<style scoped>\n",
       "    .dataframe tbody tr th:only-of-type {\n",
       "        vertical-align: middle;\n",
       "    }\n",
       "\n",
       "    .dataframe tbody tr th {\n",
       "        vertical-align: top;\n",
       "    }\n",
       "\n",
       "    .dataframe thead th {\n",
       "        text-align: right;\n",
       "    }\n",
       "</style>\n",
       "<table border=\"1\" class=\"dataframe\">\n",
       "  <thead>\n",
       "    <tr style=\"text-align: right;\">\n",
       "      <th></th>\n",
       "      <th>DJIA</th>\n",
       "    </tr>\n",
       "    <tr>\n",
       "      <th>date</th>\n",
       "      <th></th>\n",
       "    </tr>\n",
       "  </thead>\n",
       "  <tbody>\n",
       "    <tr>\n",
       "      <th>2016-01-04</th>\n",
       "      <td>17148.94</td>\n",
       "    </tr>\n",
       "    <tr>\n",
       "      <th>2016-01-05</th>\n",
       "      <td>17158.66</td>\n",
       "    </tr>\n",
       "    <tr>\n",
       "      <th>2016-01-06</th>\n",
       "      <td>16906.51</td>\n",
       "    </tr>\n",
       "    <tr>\n",
       "      <th>2016-01-07</th>\n",
       "      <td>16514.10</td>\n",
       "    </tr>\n",
       "    <tr>\n",
       "      <th>2016-01-08</th>\n",
       "      <td>16346.45</td>\n",
       "    </tr>\n",
       "  </tbody>\n",
       "</table>\n",
       "</div>"
      ],
      "text/plain": [
       "                DJIA\n",
       "date                \n",
       "2016-01-04  17148.94\n",
       "2016-01-05  17158.66\n",
       "2016-01-06  16906.51\n",
       "2016-01-07  16514.10\n",
       "2016-01-08  16346.45"
      ]
     },
     "execution_count": 179,
     "metadata": {},
     "output_type": "execute_result"
    }
   ],
   "source": [
    "djia_data = Path(\"Data/1_data_cleanup/djia.csv\")\n",
    "djia_df = pd.read_csv(djia_data)\n",
    "djia_df.rename(columns={'Date':'date'}, inplace=True)\n",
    "djia_df['date'] = pd.to_datetime(djia_df['date'])\n",
    "djia_df = djia_df.set_index('date').drop(['Change %', 'Vol.', 'Low', 'High', 'Open'], axis=1)\n",
    "djia_df = djia_df.rename(columns={'Price': 'DJIA'}).sort_values(by='date')\n",
    "djia_df = djia_df.loc[\"2016-01-01\":\"2020-06-30\"]\n",
    "djia_df['DJIA'] = djia_df['DJIA'].str.replace(',', '').astype(float)\n",
    "djia_df.head()"
   ]
  },
  {
   "cell_type": "code",
   "execution_count": 180,
   "metadata": {},
   "outputs": [
    {
     "data": {
      "text/plain": [
       "DJIA    float64\n",
       "dtype: object"
      ]
     },
     "execution_count": 180,
     "metadata": {},
     "output_type": "execute_result"
    }
   ],
   "source": [
    "djia_df.dtypes"
   ]
  },
  {
   "cell_type": "markdown",
   "metadata": {},
   "source": [
    "# NASDAQ"
   ]
  },
  {
   "cell_type": "code",
   "execution_count": 181,
   "metadata": {},
   "outputs": [
    {
     "data": {
      "text/html": [
       "<div>\n",
       "<style scoped>\n",
       "    .dataframe tbody tr th:only-of-type {\n",
       "        vertical-align: middle;\n",
       "    }\n",
       "\n",
       "    .dataframe tbody tr th {\n",
       "        vertical-align: top;\n",
       "    }\n",
       "\n",
       "    .dataframe thead th {\n",
       "        text-align: right;\n",
       "    }\n",
       "</style>\n",
       "<table border=\"1\" class=\"dataframe\">\n",
       "  <thead>\n",
       "    <tr style=\"text-align: right;\">\n",
       "      <th></th>\n",
       "      <th>NASDAQ</th>\n",
       "    </tr>\n",
       "    <tr>\n",
       "      <th>date</th>\n",
       "      <th></th>\n",
       "    </tr>\n",
       "  </thead>\n",
       "  <tbody>\n",
       "    <tr>\n",
       "      <th>2016-01-04</th>\n",
       "      <td>4903.09</td>\n",
       "    </tr>\n",
       "    <tr>\n",
       "      <th>2016-01-05</th>\n",
       "      <td>4891.43</td>\n",
       "    </tr>\n",
       "    <tr>\n",
       "      <th>2016-01-06</th>\n",
       "      <td>4835.77</td>\n",
       "    </tr>\n",
       "    <tr>\n",
       "      <th>2016-01-07</th>\n",
       "      <td>4689.43</td>\n",
       "    </tr>\n",
       "    <tr>\n",
       "      <th>2016-01-08</th>\n",
       "      <td>4643.63</td>\n",
       "    </tr>\n",
       "  </tbody>\n",
       "</table>\n",
       "</div>"
      ],
      "text/plain": [
       "             NASDAQ\n",
       "date               \n",
       "2016-01-04  4903.09\n",
       "2016-01-05  4891.43\n",
       "2016-01-06  4835.77\n",
       "2016-01-07  4689.43\n",
       "2016-01-08  4643.63"
      ]
     },
     "execution_count": 181,
     "metadata": {},
     "output_type": "execute_result"
    }
   ],
   "source": [
    "nasdaq_data = Path(\"Data/1_data_cleanup/nasdaq.csv\")\n",
    "nasdaq_df = pd.read_csv(nasdaq_data)\n",
    "nasdaq_df.rename(columns={'Date':'date'}, inplace=True)\n",
    "nasdaq_df['date'] = pd.to_datetime(nasdaq_df['date'])\n",
    "nasdaq_df = nasdaq_df.set_index('date').drop(['Change %', 'Vol.', 'Low', 'High', 'Open'], axis=1)\n",
    "nasdaq_df = nasdaq_df.rename(columns={'Price': 'NASDAQ'}).sort_values(by='date')\n",
    "nasdaq_df = nasdaq_df.loc[\"2016-01-01\":\"2020-06-30\"]\n",
    "nasdaq_df['NASDAQ'] = nasdaq_df['NASDAQ'].str.replace(',', '').astype(float)\n",
    "nasdaq_df.head()"
   ]
  },
  {
   "cell_type": "code",
   "execution_count": 182,
   "metadata": {},
   "outputs": [
    {
     "data": {
      "text/plain": [
       "NASDAQ    float64\n",
       "dtype: object"
      ]
     },
     "execution_count": 182,
     "metadata": {},
     "output_type": "execute_result"
    }
   ],
   "source": [
    "nasdaq_df.dtypes"
   ]
  },
  {
   "cell_type": "markdown",
   "metadata": {},
   "source": [
    "# S&P 500"
   ]
  },
  {
   "cell_type": "code",
   "execution_count": 183,
   "metadata": {},
   "outputs": [
    {
     "data": {
      "text/html": [
       "<div>\n",
       "<style scoped>\n",
       "    .dataframe tbody tr th:only-of-type {\n",
       "        vertical-align: middle;\n",
       "    }\n",
       "\n",
       "    .dataframe tbody tr th {\n",
       "        vertical-align: top;\n",
       "    }\n",
       "\n",
       "    .dataframe thead th {\n",
       "        text-align: right;\n",
       "    }\n",
       "</style>\n",
       "<table border=\"1\" class=\"dataframe\">\n",
       "  <thead>\n",
       "    <tr style=\"text-align: right;\">\n",
       "      <th></th>\n",
       "      <th>S&amp;P500</th>\n",
       "    </tr>\n",
       "    <tr>\n",
       "      <th>date</th>\n",
       "      <th></th>\n",
       "    </tr>\n",
       "  </thead>\n",
       "  <tbody>\n",
       "    <tr>\n",
       "      <th>2016-01-04</th>\n",
       "      <td>2012.66</td>\n",
       "    </tr>\n",
       "    <tr>\n",
       "      <th>2016-01-05</th>\n",
       "      <td>2016.71</td>\n",
       "    </tr>\n",
       "    <tr>\n",
       "      <th>2016-01-06</th>\n",
       "      <td>1990.26</td>\n",
       "    </tr>\n",
       "    <tr>\n",
       "      <th>2016-01-07</th>\n",
       "      <td>1943.09</td>\n",
       "    </tr>\n",
       "    <tr>\n",
       "      <th>2016-01-08</th>\n",
       "      <td>1922.03</td>\n",
       "    </tr>\n",
       "  </tbody>\n",
       "</table>\n",
       "</div>"
      ],
      "text/plain": [
       "             S&P500\n",
       "date               \n",
       "2016-01-04  2012.66\n",
       "2016-01-05  2016.71\n",
       "2016-01-06  1990.26\n",
       "2016-01-07  1943.09\n",
       "2016-01-08  1922.03"
      ]
     },
     "execution_count": 183,
     "metadata": {},
     "output_type": "execute_result"
    }
   ],
   "source": [
    "sp500_data = Path(\"Data/1_data_cleanup/sp500.csv\")\n",
    "sp500_df = pd.read_csv(sp500_data)\n",
    "sp500_df.rename(columns={'Date':'date'}, inplace=True)\n",
    "sp500_df['date'] = pd.to_datetime(sp500_df['date'])\n",
    "sp500_df = sp500_df.set_index('date').drop(['Change %', 'Vol.', 'Low', 'High', 'Open'], axis=1)\n",
    "sp500_df = sp500_df.rename(columns={'Price': 'S&P500'}).sort_values(by='date')\n",
    "sp500_df = sp500_df.loc[\"2016-01-01\":\"2020-06-30\"]\n",
    "sp500_df['S&P500'] = sp500_df['S&P500'].str.replace(',', '').astype(float)\n",
    "sp500_df.head()"
   ]
  },
  {
   "cell_type": "code",
   "execution_count": 184,
   "metadata": {},
   "outputs": [
    {
     "data": {
      "text/plain": [
       "S&P500    float64\n",
       "dtype: object"
      ]
     },
     "execution_count": 184,
     "metadata": {},
     "output_type": "execute_result"
    }
   ],
   "source": [
    "sp500_df.dtypes"
   ]
  },
  {
   "cell_type": "markdown",
   "metadata": {},
   "source": [
    "# CBOE Volatility Index"
   ]
  },
  {
   "cell_type": "code",
   "execution_count": 185,
   "metadata": {},
   "outputs": [
    {
     "data": {
      "text/html": [
       "<div>\n",
       "<style scoped>\n",
       "    .dataframe tbody tr th:only-of-type {\n",
       "        vertical-align: middle;\n",
       "    }\n",
       "\n",
       "    .dataframe tbody tr th {\n",
       "        vertical-align: top;\n",
       "    }\n",
       "\n",
       "    .dataframe thead th {\n",
       "        text-align: right;\n",
       "    }\n",
       "</style>\n",
       "<table border=\"1\" class=\"dataframe\">\n",
       "  <thead>\n",
       "    <tr style=\"text-align: right;\">\n",
       "      <th></th>\n",
       "      <th>CBOE</th>\n",
       "    </tr>\n",
       "    <tr>\n",
       "      <th>date</th>\n",
       "      <th></th>\n",
       "    </tr>\n",
       "  </thead>\n",
       "  <tbody>\n",
       "    <tr>\n",
       "      <th>2016-01-04</th>\n",
       "      <td>20.70</td>\n",
       "    </tr>\n",
       "    <tr>\n",
       "      <th>2016-01-05</th>\n",
       "      <td>19.34</td>\n",
       "    </tr>\n",
       "    <tr>\n",
       "      <th>2016-01-06</th>\n",
       "      <td>20.59</td>\n",
       "    </tr>\n",
       "    <tr>\n",
       "      <th>2016-01-07</th>\n",
       "      <td>24.99</td>\n",
       "    </tr>\n",
       "    <tr>\n",
       "      <th>2016-01-08</th>\n",
       "      <td>27.01</td>\n",
       "    </tr>\n",
       "  </tbody>\n",
       "</table>\n",
       "</div>"
      ],
      "text/plain": [
       "             CBOE\n",
       "date             \n",
       "2016-01-04  20.70\n",
       "2016-01-05  19.34\n",
       "2016-01-06  20.59\n",
       "2016-01-07  24.99\n",
       "2016-01-08  27.01"
      ]
     },
     "execution_count": 185,
     "metadata": {},
     "output_type": "execute_result"
    }
   ],
   "source": [
    "cboe_data = Path(\"Data/1_data_cleanup/cboe.csv\")\n",
    "cboe_df = pd.read_csv(cboe_data)\n",
    "cboe_df.rename(columns={'Date':'date'}, inplace=True)\n",
    "cboe_df['date'] = pd.to_datetime(cboe_df['date'])\n",
    "cboe_df = cboe_df.set_index('date').drop(['Change %', 'Vol.', 'Low', 'High', 'Open'], axis=1)\n",
    "cboe_df = cboe_df.rename(columns={'Price': 'CBOE'}).sort_values(by='date')\n",
    "cboe_df = cboe_df.loc[\"2016-01-01\":\"2020-06-30\"]\n",
    "cboe_df.head()"
   ]
  },
  {
   "cell_type": "code",
   "execution_count": 186,
   "metadata": {},
   "outputs": [
    {
     "data": {
      "text/plain": [
       "CBOE    float64\n",
       "dtype: object"
      ]
     },
     "execution_count": 186,
     "metadata": {},
     "output_type": "execute_result"
    }
   ],
   "source": [
    "cboe_df.dtypes"
   ]
  },
  {
   "cell_type": "markdown",
   "metadata": {},
   "source": [
    "# Gold"
   ]
  },
  {
   "cell_type": "code",
   "execution_count": 187,
   "metadata": {},
   "outputs": [
    {
     "data": {
      "text/html": [
       "<div>\n",
       "<style scoped>\n",
       "    .dataframe tbody tr th:only-of-type {\n",
       "        vertical-align: middle;\n",
       "    }\n",
       "\n",
       "    .dataframe tbody tr th {\n",
       "        vertical-align: top;\n",
       "    }\n",
       "\n",
       "    .dataframe thead th {\n",
       "        text-align: right;\n",
       "    }\n",
       "</style>\n",
       "<table border=\"1\" class=\"dataframe\">\n",
       "  <thead>\n",
       "    <tr style=\"text-align: right;\">\n",
       "      <th></th>\n",
       "      <th>GOLD</th>\n",
       "    </tr>\n",
       "    <tr>\n",
       "      <th>date</th>\n",
       "      <th></th>\n",
       "    </tr>\n",
       "  </thead>\n",
       "  <tbody>\n",
       "    <tr>\n",
       "      <th>2016-01-04</th>\n",
       "      <td>1135.5</td>\n",
       "    </tr>\n",
       "    <tr>\n",
       "      <th>2016-01-05</th>\n",
       "      <td>1138.4</td>\n",
       "    </tr>\n",
       "    <tr>\n",
       "      <th>2016-01-06</th>\n",
       "      <td>1151.9</td>\n",
       "    </tr>\n",
       "    <tr>\n",
       "      <th>2016-01-07</th>\n",
       "      <td>1162.7</td>\n",
       "    </tr>\n",
       "    <tr>\n",
       "      <th>2016-01-08</th>\n",
       "      <td>1151.7</td>\n",
       "    </tr>\n",
       "  </tbody>\n",
       "</table>\n",
       "</div>"
      ],
      "text/plain": [
       "              GOLD\n",
       "date              \n",
       "2016-01-04  1135.5\n",
       "2016-01-05  1138.4\n",
       "2016-01-06  1151.9\n",
       "2016-01-07  1162.7\n",
       "2016-01-08  1151.7"
      ]
     },
     "execution_count": 187,
     "metadata": {},
     "output_type": "execute_result"
    }
   ],
   "source": [
    "gold_data = Path(\"Data/1_data_cleanup/gold.csv\")\n",
    "gold_df = pd.read_csv(gold_data)\n",
    "gold_df.rename(columns={'Date':'date'}, inplace=True)\n",
    "gold_df['date'] = pd.to_datetime(gold_df['date'])\n",
    "gold_df = gold_df.set_index('date').drop(['Change %', 'Vol.', 'Low', 'High', 'Open'], axis=1)\n",
    "gold_df = gold_df.rename(columns={'Price': 'GOLD'}).sort_values(by='date')\n",
    "gold_df = gold_df.loc[\"2016-01-01\":\"2020-06-30\"]\n",
    "gold_df['GOLD'] = gold_df['GOLD'].str.replace(',', '').astype(float)\n",
    "gold_df.head()"
   ]
  },
  {
   "cell_type": "code",
   "execution_count": 188,
   "metadata": {},
   "outputs": [
    {
     "data": {
      "text/plain": [
       "GOLD    float64\n",
       "dtype: object"
      ]
     },
     "execution_count": 188,
     "metadata": {},
     "output_type": "execute_result"
    }
   ],
   "source": [
    "gold_df.dtypes"
   ]
  },
  {
   "cell_type": "markdown",
   "metadata": {},
   "source": [
    "# Silver"
   ]
  },
  {
   "cell_type": "code",
   "execution_count": 189,
   "metadata": {},
   "outputs": [
    {
     "data": {
      "text/html": [
       "<div>\n",
       "<style scoped>\n",
       "    .dataframe tbody tr th:only-of-type {\n",
       "        vertical-align: middle;\n",
       "    }\n",
       "\n",
       "    .dataframe tbody tr th {\n",
       "        vertical-align: top;\n",
       "    }\n",
       "\n",
       "    .dataframe thead th {\n",
       "        text-align: right;\n",
       "    }\n",
       "</style>\n",
       "<table border=\"1\" class=\"dataframe\">\n",
       "  <thead>\n",
       "    <tr style=\"text-align: right;\">\n",
       "      <th></th>\n",
       "      <th>SILVER</th>\n",
       "    </tr>\n",
       "    <tr>\n",
       "      <th>date</th>\n",
       "      <th></th>\n",
       "    </tr>\n",
       "  </thead>\n",
       "  <tbody>\n",
       "    <tr>\n",
       "      <th>2016-01-03</th>\n",
       "      <td>13.890</td>\n",
       "    </tr>\n",
       "    <tr>\n",
       "      <th>2016-01-04</th>\n",
       "      <td>14.880</td>\n",
       "    </tr>\n",
       "    <tr>\n",
       "      <th>2016-01-05</th>\n",
       "      <td>15.008</td>\n",
       "    </tr>\n",
       "    <tr>\n",
       "      <th>2016-01-06</th>\n",
       "      <td>15.005</td>\n",
       "    </tr>\n",
       "    <tr>\n",
       "      <th>2016-01-07</th>\n",
       "      <td>15.367</td>\n",
       "    </tr>\n",
       "  </tbody>\n",
       "</table>\n",
       "</div>"
      ],
      "text/plain": [
       "            SILVER\n",
       "date              \n",
       "2016-01-03  13.890\n",
       "2016-01-04  14.880\n",
       "2016-01-05  15.008\n",
       "2016-01-06  15.005\n",
       "2016-01-07  15.367"
      ]
     },
     "execution_count": 189,
     "metadata": {},
     "output_type": "execute_result"
    }
   ],
   "source": [
    "silver_data = Path(\"Data/1_data_cleanup/silver.csv\")\n",
    "silver_df = pd.read_csv(silver_data)\n",
    "silver_df.rename(columns={'Date':'date'}, inplace=True)\n",
    "silver_df['date'] = pd.to_datetime(silver_df['date'])\n",
    "silver_df = silver_df.set_index('date').drop(['Change %', 'Vol.', 'Low', 'High', 'Open'], axis=1)\n",
    "silver_df = silver_df.rename(columns={'Price': 'SILVER'}).sort_values(by='date')\n",
    "silver_df = silver_df.loc[\"2016-01-01\":\"2020-06-30\"]\n",
    "silver_df.head()"
   ]
  },
  {
   "cell_type": "code",
   "execution_count": 190,
   "metadata": {},
   "outputs": [
    {
     "data": {
      "text/plain": [
       "SILVER    float64\n",
       "dtype: object"
      ]
     },
     "execution_count": 190,
     "metadata": {},
     "output_type": "execute_result"
    }
   ],
   "source": [
    "silver_df.dtypes"
   ]
  },
  {
   "cell_type": "markdown",
   "metadata": {},
   "source": [
    "# Dollar Index"
   ]
  },
  {
   "cell_type": "code",
   "execution_count": 191,
   "metadata": {},
   "outputs": [
    {
     "data": {
      "text/html": [
       "<div>\n",
       "<style scoped>\n",
       "    .dataframe tbody tr th:only-of-type {\n",
       "        vertical-align: middle;\n",
       "    }\n",
       "\n",
       "    .dataframe tbody tr th {\n",
       "        vertical-align: top;\n",
       "    }\n",
       "\n",
       "    .dataframe thead th {\n",
       "        text-align: right;\n",
       "    }\n",
       "</style>\n",
       "<table border=\"1\" class=\"dataframe\">\n",
       "  <thead>\n",
       "    <tr style=\"text-align: right;\">\n",
       "      <th></th>\n",
       "      <th>DOLLAR</th>\n",
       "    </tr>\n",
       "    <tr>\n",
       "      <th>date</th>\n",
       "      <th></th>\n",
       "    </tr>\n",
       "  </thead>\n",
       "  <tbody>\n",
       "    <tr>\n",
       "      <th>2016-01-01</th>\n",
       "      <td>98.63</td>\n",
       "    </tr>\n",
       "    <tr>\n",
       "      <th>2016-01-04</th>\n",
       "      <td>98.87</td>\n",
       "    </tr>\n",
       "    <tr>\n",
       "      <th>2016-01-05</th>\n",
       "      <td>99.40</td>\n",
       "    </tr>\n",
       "    <tr>\n",
       "      <th>2016-01-06</th>\n",
       "      <td>99.18</td>\n",
       "    </tr>\n",
       "    <tr>\n",
       "      <th>2016-01-07</th>\n",
       "      <td>98.22</td>\n",
       "    </tr>\n",
       "  </tbody>\n",
       "</table>\n",
       "</div>"
      ],
      "text/plain": [
       "            DOLLAR\n",
       "date              \n",
       "2016-01-01   98.63\n",
       "2016-01-04   98.87\n",
       "2016-01-05   99.40\n",
       "2016-01-06   99.18\n",
       "2016-01-07   98.22"
      ]
     },
     "execution_count": 191,
     "metadata": {},
     "output_type": "execute_result"
    }
   ],
   "source": [
    "dollar_data = Path(\"Data/1_data_cleanup/dollar.csv\")\n",
    "dollar_df = pd.read_csv(dollar_data)\n",
    "dollar_df.rename(columns={'Date':'date'}, inplace=True)\n",
    "dollar_df['date'] = pd.to_datetime(dollar_df['date'])\n",
    "dollar_df = dollar_df.set_index('date').drop(['Change %', 'Vol.', 'Low', 'High', 'Open'], axis=1)\n",
    "dollar_df = dollar_df.rename(columns={'Price': 'DOLLAR'}).sort_values(by='date')\n",
    "dollar_df = dollar_df.loc[\"2016-01-01\":\"2020-06-30\"]\n",
    "dollar_df.head()"
   ]
  },
  {
   "cell_type": "code",
   "execution_count": 192,
   "metadata": {},
   "outputs": [
    {
     "data": {
      "text/plain": [
       "DOLLAR    float64\n",
       "dtype: object"
      ]
     },
     "execution_count": 192,
     "metadata": {},
     "output_type": "execute_result"
    }
   ],
   "source": [
    "dollar_df.dtypes"
   ]
  },
  {
   "cell_type": "markdown",
   "metadata": {},
   "source": [
    "# WTI Crude"
   ]
  },
  {
   "cell_type": "code",
   "execution_count": 193,
   "metadata": {},
   "outputs": [
    {
     "data": {
      "text/html": [
       "<div>\n",
       "<style scoped>\n",
       "    .dataframe tbody tr th:only-of-type {\n",
       "        vertical-align: middle;\n",
       "    }\n",
       "\n",
       "    .dataframe tbody tr th {\n",
       "        vertical-align: top;\n",
       "    }\n",
       "\n",
       "    .dataframe thead th {\n",
       "        text-align: right;\n",
       "    }\n",
       "</style>\n",
       "<table border=\"1\" class=\"dataframe\">\n",
       "  <thead>\n",
       "    <tr style=\"text-align: right;\">\n",
       "      <th></th>\n",
       "      <th>WTI</th>\n",
       "    </tr>\n",
       "    <tr>\n",
       "      <th>date</th>\n",
       "      <th></th>\n",
       "    </tr>\n",
       "  </thead>\n",
       "  <tbody>\n",
       "    <tr>\n",
       "      <th>2016-01-04</th>\n",
       "      <td>36.76</td>\n",
       "    </tr>\n",
       "    <tr>\n",
       "      <th>2016-01-05</th>\n",
       "      <td>35.97</td>\n",
       "    </tr>\n",
       "    <tr>\n",
       "      <th>2016-01-06</th>\n",
       "      <td>33.97</td>\n",
       "    </tr>\n",
       "    <tr>\n",
       "      <th>2016-01-07</th>\n",
       "      <td>33.27</td>\n",
       "    </tr>\n",
       "    <tr>\n",
       "      <th>2016-01-08</th>\n",
       "      <td>33.16</td>\n",
       "    </tr>\n",
       "  </tbody>\n",
       "</table>\n",
       "</div>"
      ],
      "text/plain": [
       "              WTI\n",
       "date             \n",
       "2016-01-04  36.76\n",
       "2016-01-05  35.97\n",
       "2016-01-06  33.97\n",
       "2016-01-07  33.27\n",
       "2016-01-08  33.16"
      ]
     },
     "execution_count": 193,
     "metadata": {},
     "output_type": "execute_result"
    }
   ],
   "source": [
    "wti_data = Path(\"Data/1_data_cleanup/wti.csv\")\n",
    "wti_df = pd.read_csv(wti_data)\n",
    "wti_df.rename(columns={'Date':'date'}, inplace=True)\n",
    "wti_df['date'] = pd.to_datetime(wti_df['date'])\n",
    "wti_df = wti_df.set_index('date').drop(['Change %', 'Vol.', 'Low', 'High', 'Open'], axis=1)\n",
    "wti_df = wti_df.rename(columns={'Price': 'WTI'}).sort_values(by='date')\n",
    "wti_df = wti_df.loc[\"2016-01-01\":\"2020-06-30\"]\n",
    "wti_df.head()"
   ]
  },
  {
   "cell_type": "code",
   "execution_count": 194,
   "metadata": {},
   "outputs": [
    {
     "data": {
      "text/plain": [
       "WTI    float64\n",
       "dtype: object"
      ]
     },
     "execution_count": 194,
     "metadata": {},
     "output_type": "execute_result"
    }
   ],
   "source": [
    "wti_df.dtypes"
   ]
  },
  {
   "cell_type": "markdown",
   "metadata": {},
   "source": [
    "# 10 Yr Bond Yield"
   ]
  },
  {
   "cell_type": "code",
   "execution_count": 195,
   "metadata": {},
   "outputs": [
    {
     "data": {
      "text/html": [
       "<div>\n",
       "<style scoped>\n",
       "    .dataframe tbody tr th:only-of-type {\n",
       "        vertical-align: middle;\n",
       "    }\n",
       "\n",
       "    .dataframe tbody tr th {\n",
       "        vertical-align: top;\n",
       "    }\n",
       "\n",
       "    .dataframe thead th {\n",
       "        text-align: right;\n",
       "    }\n",
       "</style>\n",
       "<table border=\"1\" class=\"dataframe\">\n",
       "  <thead>\n",
       "    <tr style=\"text-align: right;\">\n",
       "      <th></th>\n",
       "      <th>10YR</th>\n",
       "    </tr>\n",
       "    <tr>\n",
       "      <th>date</th>\n",
       "      <th></th>\n",
       "    </tr>\n",
       "  </thead>\n",
       "  <tbody>\n",
       "    <tr>\n",
       "      <th>2016-01-03</th>\n",
       "      <td>2.291</td>\n",
       "    </tr>\n",
       "    <tr>\n",
       "      <th>2016-01-04</th>\n",
       "      <td>2.243</td>\n",
       "    </tr>\n",
       "    <tr>\n",
       "      <th>2016-01-05</th>\n",
       "      <td>2.239</td>\n",
       "    </tr>\n",
       "    <tr>\n",
       "      <th>2016-01-06</th>\n",
       "      <td>2.170</td>\n",
       "    </tr>\n",
       "    <tr>\n",
       "      <th>2016-01-07</th>\n",
       "      <td>2.149</td>\n",
       "    </tr>\n",
       "  </tbody>\n",
       "</table>\n",
       "</div>"
      ],
      "text/plain": [
       "             10YR\n",
       "date             \n",
       "2016-01-03  2.291\n",
       "2016-01-04  2.243\n",
       "2016-01-05  2.239\n",
       "2016-01-06  2.170\n",
       "2016-01-07  2.149"
      ]
     },
     "execution_count": 195,
     "metadata": {},
     "output_type": "execute_result"
    }
   ],
   "source": [
    "ten_data = Path(\"Data/1_data_cleanup/10_yr_bond.csv\")\n",
    "ten_df = pd.read_csv(ten_data)\n",
    "ten_df.rename(columns={'Date':'date'}, inplace=True)\n",
    "ten_df['date'] = pd.to_datetime(ten_df['date'])\n",
    "ten_df = ten_df.set_index('date').drop(['Change %', 'Low', 'High', 'Open'], axis=1)\n",
    "ten_df = ten_df.rename(columns={'Price': '10YR'}).sort_values(by='date')\n",
    "ten_df = ten_df.loc[\"2016-01-01\":\"2020-06-30\"]\n",
    "ten_df.head()"
   ]
  },
  {
   "cell_type": "code",
   "execution_count": 196,
   "metadata": {},
   "outputs": [
    {
     "data": {
      "text/plain": [
       "10YR    float64\n",
       "dtype: object"
      ]
     },
     "execution_count": 196,
     "metadata": {},
     "output_type": "execute_result"
    }
   ],
   "source": [
    "ten_df.dtypes"
   ]
  },
  {
   "cell_type": "markdown",
   "metadata": {},
   "source": [
    "# Bitcoin"
   ]
  },
  {
   "cell_type": "code",
   "execution_count": 197,
   "metadata": {},
   "outputs": [
    {
     "data": {
      "text/html": [
       "<div>\n",
       "<style scoped>\n",
       "    .dataframe tbody tr th:only-of-type {\n",
       "        vertical-align: middle;\n",
       "    }\n",
       "\n",
       "    .dataframe tbody tr th {\n",
       "        vertical-align: top;\n",
       "    }\n",
       "\n",
       "    .dataframe thead th {\n",
       "        text-align: right;\n",
       "    }\n",
       "</style>\n",
       "<table border=\"1\" class=\"dataframe\">\n",
       "  <thead>\n",
       "    <tr style=\"text-align: right;\">\n",
       "      <th></th>\n",
       "      <th>BTC</th>\n",
       "    </tr>\n",
       "    <tr>\n",
       "      <th>date</th>\n",
       "      <th></th>\n",
       "    </tr>\n",
       "  </thead>\n",
       "  <tbody>\n",
       "    <tr>\n",
       "      <th>2016-01-01</th>\n",
       "      <td>434.0</td>\n",
       "    </tr>\n",
       "    <tr>\n",
       "      <th>2016-01-02</th>\n",
       "      <td>432.7</td>\n",
       "    </tr>\n",
       "    <tr>\n",
       "      <th>2016-01-03</th>\n",
       "      <td>428.7</td>\n",
       "    </tr>\n",
       "    <tr>\n",
       "      <th>2016-01-04</th>\n",
       "      <td>432.9</td>\n",
       "    </tr>\n",
       "    <tr>\n",
       "      <th>2016-01-05</th>\n",
       "      <td>431.8</td>\n",
       "    </tr>\n",
       "  </tbody>\n",
       "</table>\n",
       "</div>"
      ],
      "text/plain": [
       "              BTC\n",
       "date             \n",
       "2016-01-01  434.0\n",
       "2016-01-02  432.7\n",
       "2016-01-03  428.7\n",
       "2016-01-04  432.9\n",
       "2016-01-05  431.8"
      ]
     },
     "execution_count": 197,
     "metadata": {},
     "output_type": "execute_result"
    }
   ],
   "source": [
    "btc_data = Path(\"Data/1_data_cleanup/bitcoin.csv\")\n",
    "btc_df = pd.read_csv(btc_data)\n",
    "btc_df.rename(columns={'Date':'date'}, inplace=True)\n",
    "btc_df['date'] = pd.to_datetime(btc_df['date'])\n",
    "btc_df = btc_df.set_index('date').drop(['Change %', 'Vol.', 'Low', 'High', 'Open'], axis=1)\n",
    "btc_df = btc_df.rename(columns={'Price': 'BTC'}).sort_values(by='date')\n",
    "btc_df = btc_df.loc[\"2016-01-01\":\"2020-06-30\"]\n",
    "btc_df['BTC'] = btc_df['BTC'].str.replace(',', '').astype(float)\n",
    "btc_df.head()"
   ]
  },
  {
   "cell_type": "code",
   "execution_count": 198,
   "metadata": {},
   "outputs": [
    {
     "data": {
      "text/plain": [
       "BTC    float64\n",
       "dtype: object"
      ]
     },
     "execution_count": 198,
     "metadata": {},
     "output_type": "execute_result"
    }
   ],
   "source": [
    "btc_df.dtypes"
   ]
  },
  {
   "cell_type": "markdown",
   "metadata": {},
   "source": [
    "# GDP"
   ]
  },
  {
   "cell_type": "code",
   "execution_count": 199,
   "metadata": {},
   "outputs": [
    {
     "data": {
      "text/html": [
       "<div>\n",
       "<style scoped>\n",
       "    .dataframe tbody tr th:only-of-type {\n",
       "        vertical-align: middle;\n",
       "    }\n",
       "\n",
       "    .dataframe tbody tr th {\n",
       "        vertical-align: top;\n",
       "    }\n",
       "\n",
       "    .dataframe thead th {\n",
       "        text-align: right;\n",
       "    }\n",
       "</style>\n",
       "<table border=\"1\" class=\"dataframe\">\n",
       "  <thead>\n",
       "    <tr style=\"text-align: right;\">\n",
       "      <th></th>\n",
       "      <th>GDP</th>\n",
       "    </tr>\n",
       "    <tr>\n",
       "      <th>date</th>\n",
       "      <th></th>\n",
       "    </tr>\n",
       "  </thead>\n",
       "  <tbody>\n",
       "    <tr>\n",
       "      <th>2016-01-04</th>\n",
       "      <td>18382.815824</td>\n",
       "    </tr>\n",
       "    <tr>\n",
       "      <th>2016-01-05</th>\n",
       "      <td>18383.819780</td>\n",
       "    </tr>\n",
       "    <tr>\n",
       "      <th>2016-01-06</th>\n",
       "      <td>18384.823736</td>\n",
       "    </tr>\n",
       "    <tr>\n",
       "      <th>2016-01-07</th>\n",
       "      <td>18385.827692</td>\n",
       "    </tr>\n",
       "    <tr>\n",
       "      <th>2016-01-08</th>\n",
       "      <td>18386.831648</td>\n",
       "    </tr>\n",
       "  </tbody>\n",
       "</table>\n",
       "</div>"
      ],
      "text/plain": [
       "                     GDP\n",
       "date                    \n",
       "2016-01-04  18382.815824\n",
       "2016-01-05  18383.819780\n",
       "2016-01-06  18384.823736\n",
       "2016-01-07  18385.827692\n",
       "2016-01-08  18386.831648"
      ]
     },
     "execution_count": 199,
     "metadata": {},
     "output_type": "execute_result"
    }
   ],
   "source": [
    "gdp_data = Path(\"Data/1_data_cleanup/gdp.csv\")\n",
    "gdp_df = pd.read_csv(gdp_data)\n",
    "gdp_df.rename(columns={'Date':'date'}, inplace=True)\n",
    "gdp_df['date'] = pd.to_datetime(gdp_df['date'])\n",
    "gdp_df = gdp_df.set_index('date')\n",
    "gdp_df = pd.concat([gdp_df, djia_df], axis=1, join=\"outer\")\n",
    "gdp_df = gdp_df.drop(columns='DJIA')\n",
    "gdp_df = gdp_df.interpolate(method='time')\n",
    "gdp_df = gdp_df.loc[\"2016-01-01\":\"2020-06-30\"]\n",
    "gdp_df.head()"
   ]
  },
  {
   "cell_type": "code",
   "execution_count": 200,
   "metadata": {},
   "outputs": [
    {
     "data": {
      "text/plain": [
       "GDP    float64\n",
       "dtype: object"
      ]
     },
     "execution_count": 200,
     "metadata": {},
     "output_type": "execute_result"
    }
   ],
   "source": [
    "gdp_df.dtypes"
   ]
  },
  {
   "cell_type": "markdown",
   "metadata": {},
   "source": [
    "# CPI"
   ]
  },
  {
   "cell_type": "code",
   "execution_count": 201,
   "metadata": {},
   "outputs": [
    {
     "data": {
      "text/html": [
       "<div>\n",
       "<style scoped>\n",
       "    .dataframe tbody tr th:only-of-type {\n",
       "        vertical-align: middle;\n",
       "    }\n",
       "\n",
       "    .dataframe tbody tr th {\n",
       "        vertical-align: top;\n",
       "    }\n",
       "\n",
       "    .dataframe thead th {\n",
       "        text-align: right;\n",
       "    }\n",
       "</style>\n",
       "<table border=\"1\" class=\"dataframe\">\n",
       "  <thead>\n",
       "    <tr style=\"text-align: right;\">\n",
       "      <th></th>\n",
       "      <th>CPI</th>\n",
       "    </tr>\n",
       "    <tr>\n",
       "      <th>date</th>\n",
       "      <th></th>\n",
       "    </tr>\n",
       "  </thead>\n",
       "  <tbody>\n",
       "    <tr>\n",
       "      <th>2016-01-01</th>\n",
       "      <td>237.827000</td>\n",
       "    </tr>\n",
       "    <tr>\n",
       "      <th>2016-01-04</th>\n",
       "      <td>237.796710</td>\n",
       "    </tr>\n",
       "    <tr>\n",
       "      <th>2016-01-05</th>\n",
       "      <td>237.786613</td>\n",
       "    </tr>\n",
       "    <tr>\n",
       "      <th>2016-01-06</th>\n",
       "      <td>237.776516</td>\n",
       "    </tr>\n",
       "    <tr>\n",
       "      <th>2016-01-07</th>\n",
       "      <td>237.766419</td>\n",
       "    </tr>\n",
       "  </tbody>\n",
       "</table>\n",
       "</div>"
      ],
      "text/plain": [
       "                   CPI\n",
       "date                  \n",
       "2016-01-01  237.827000\n",
       "2016-01-04  237.796710\n",
       "2016-01-05  237.786613\n",
       "2016-01-06  237.776516\n",
       "2016-01-07  237.766419"
      ]
     },
     "execution_count": 201,
     "metadata": {},
     "output_type": "execute_result"
    }
   ],
   "source": [
    "cpi_data = Path(\"Data/1_data_cleanup/cpi.csv\")\n",
    "cpi_df = pd.read_csv(cpi_data)\n",
    "cpi_df.rename(columns={'Date':'date'}, inplace=True)\n",
    "cpi_df['date'] = pd.to_datetime(cpi_df['date'])\n",
    "cpi_df = cpi_df.set_index('date')\n",
    "cpi_df = pd.concat([cpi_df, djia_df], axis=1, join=\"outer\")\n",
    "cpi_df = cpi_df.drop(columns='DJIA')\n",
    "cpi_df = cpi_df.interpolate(method='time')\n",
    "cpi_df = cpi_df.loc[\"2016-01-01\":\"2020-06-30\"]\n",
    "cpi_df.head()"
   ]
  },
  {
   "cell_type": "code",
   "execution_count": 202,
   "metadata": {},
   "outputs": [
    {
     "data": {
      "text/plain": [
       "CPI    float64\n",
       "dtype: object"
      ]
     },
     "execution_count": 202,
     "metadata": {},
     "output_type": "execute_result"
    }
   ],
   "source": [
    "cpi_df.dtypes"
   ]
  },
  {
   "cell_type": "markdown",
   "metadata": {},
   "source": [
    "# Industrial Production Index"
   ]
  },
  {
   "cell_type": "code",
   "execution_count": 203,
   "metadata": {},
   "outputs": [
    {
     "data": {
      "text/html": [
       "<div>\n",
       "<style scoped>\n",
       "    .dataframe tbody tr th:only-of-type {\n",
       "        vertical-align: middle;\n",
       "    }\n",
       "\n",
       "    .dataframe tbody tr th {\n",
       "        vertical-align: top;\n",
       "    }\n",
       "\n",
       "    .dataframe thead th {\n",
       "        text-align: right;\n",
       "    }\n",
       "</style>\n",
       "<table border=\"1\" class=\"dataframe\">\n",
       "  <thead>\n",
       "    <tr style=\"text-align: right;\">\n",
       "      <th></th>\n",
       "      <th>IPI</th>\n",
       "    </tr>\n",
       "    <tr>\n",
       "      <th>date</th>\n",
       "      <th></th>\n",
       "    </tr>\n",
       "  </thead>\n",
       "  <tbody>\n",
       "    <tr>\n",
       "      <th>2016-01-01</th>\n",
       "      <td>102.952500</td>\n",
       "    </tr>\n",
       "    <tr>\n",
       "      <th>2016-01-04</th>\n",
       "      <td>102.881855</td>\n",
       "    </tr>\n",
       "    <tr>\n",
       "      <th>2016-01-05</th>\n",
       "      <td>102.858306</td>\n",
       "    </tr>\n",
       "    <tr>\n",
       "      <th>2016-01-06</th>\n",
       "      <td>102.834758</td>\n",
       "    </tr>\n",
       "    <tr>\n",
       "      <th>2016-01-07</th>\n",
       "      <td>102.811210</td>\n",
       "    </tr>\n",
       "  </tbody>\n",
       "</table>\n",
       "</div>"
      ],
      "text/plain": [
       "                   IPI\n",
       "date                  \n",
       "2016-01-01  102.952500\n",
       "2016-01-04  102.881855\n",
       "2016-01-05  102.858306\n",
       "2016-01-06  102.834758\n",
       "2016-01-07  102.811210"
      ]
     },
     "execution_count": 203,
     "metadata": {},
     "output_type": "execute_result"
    }
   ],
   "source": [
    "ipi_data = Path(\"Data/1_data_cleanup/ipi.csv\")\n",
    "ipi_df = pd.read_csv(ipi_data)\n",
    "ipi_df.rename(columns={'Date':'date'}, inplace=True)\n",
    "ipi_df['date'] = pd.to_datetime(ipi_df['date'])\n",
    "ipi_df = ipi_df.set_index('date')\n",
    "ipi_df = pd.concat([ipi_df, djia_df], axis=1, join=\"outer\")\n",
    "ipi_df = ipi_df.drop(columns='DJIA')\n",
    "ipi_df = ipi_df.interpolate(method='time')\n",
    "ipi_df = ipi_df.loc[\"2016-01-01\":\"2020-06-30\"]\n",
    "ipi_df.head()"
   ]
  },
  {
   "cell_type": "code",
   "execution_count": 204,
   "metadata": {},
   "outputs": [
    {
     "data": {
      "text/plain": [
       "IPI    float64\n",
       "dtype: object"
      ]
     },
     "execution_count": 204,
     "metadata": {},
     "output_type": "execute_result"
    }
   ],
   "source": [
    "ipi_df.dtypes"
   ]
  },
  {
   "cell_type": "markdown",
   "metadata": {},
   "source": [
    "# Unemployment"
   ]
  },
  {
   "cell_type": "code",
   "execution_count": 205,
   "metadata": {},
   "outputs": [
    {
     "data": {
      "text/html": [
       "<div>\n",
       "<style scoped>\n",
       "    .dataframe tbody tr th:only-of-type {\n",
       "        vertical-align: middle;\n",
       "    }\n",
       "\n",
       "    .dataframe tbody tr th {\n",
       "        vertical-align: top;\n",
       "    }\n",
       "\n",
       "    .dataframe thead th {\n",
       "        text-align: right;\n",
       "    }\n",
       "</style>\n",
       "<table border=\"1\" class=\"dataframe\">\n",
       "  <thead>\n",
       "    <tr style=\"text-align: right;\">\n",
       "      <th></th>\n",
       "      <th>UNEMP</th>\n",
       "    </tr>\n",
       "    <tr>\n",
       "      <th>date</th>\n",
       "      <th></th>\n",
       "    </tr>\n",
       "  </thead>\n",
       "  <tbody>\n",
       "    <tr>\n",
       "      <th>2016-01-01</th>\n",
       "      <td>4.9</td>\n",
       "    </tr>\n",
       "    <tr>\n",
       "      <th>2016-01-04</th>\n",
       "      <td>4.9</td>\n",
       "    </tr>\n",
       "    <tr>\n",
       "      <th>2016-01-05</th>\n",
       "      <td>4.9</td>\n",
       "    </tr>\n",
       "    <tr>\n",
       "      <th>2016-01-06</th>\n",
       "      <td>4.9</td>\n",
       "    </tr>\n",
       "    <tr>\n",
       "      <th>2016-01-07</th>\n",
       "      <td>4.9</td>\n",
       "    </tr>\n",
       "  </tbody>\n",
       "</table>\n",
       "</div>"
      ],
      "text/plain": [
       "            UNEMP\n",
       "date             \n",
       "2016-01-01    4.9\n",
       "2016-01-04    4.9\n",
       "2016-01-05    4.9\n",
       "2016-01-06    4.9\n",
       "2016-01-07    4.9"
      ]
     },
     "execution_count": 205,
     "metadata": {},
     "output_type": "execute_result"
    }
   ],
   "source": [
    "unemp_data = Path(\"Data/1_data_cleanup/unemployment.csv\")\n",
    "unemp_df = pd.read_csv(unemp_data)\n",
    "unemp_df.rename(columns={'Date':'date'}, inplace=True)\n",
    "unemp_df['date'] = pd.to_datetime(unemp_df['date'])\n",
    "unemp_df = unemp_df.set_index('date')\n",
    "unemp_df = pd.concat([unemp_df, djia_df], axis=1, join=\"outer\")\n",
    "unemp_df = unemp_df.drop(columns='DJIA')\n",
    "unemp_df = unemp_df.interpolate(method='time')\n",
    "unemp_df = unemp_df.loc[\"2016-01-01\":\"2020-06-30\"]\n",
    "unemp_df.head()"
   ]
  },
  {
   "cell_type": "code",
   "execution_count": 206,
   "metadata": {},
   "outputs": [
    {
     "data": {
      "text/plain": [
       "UNEMP    float64\n",
       "dtype: object"
      ]
     },
     "execution_count": 206,
     "metadata": {},
     "output_type": "execute_result"
    }
   ],
   "source": [
    "unemp_df.dtypes"
   ]
  },
  {
   "cell_type": "markdown",
   "metadata": {},
   "source": [
    "# Non Farm Payrolls"
   ]
  },
  {
   "cell_type": "code",
   "execution_count": 207,
   "metadata": {},
   "outputs": [
    {
     "data": {
      "text/html": [
       "<div>\n",
       "<style scoped>\n",
       "    .dataframe tbody tr th:only-of-type {\n",
       "        vertical-align: middle;\n",
       "    }\n",
       "\n",
       "    .dataframe tbody tr th {\n",
       "        vertical-align: top;\n",
       "    }\n",
       "\n",
       "    .dataframe thead th {\n",
       "        text-align: right;\n",
       "    }\n",
       "</style>\n",
       "<table border=\"1\" class=\"dataframe\">\n",
       "  <thead>\n",
       "    <tr style=\"text-align: right;\">\n",
       "      <th></th>\n",
       "      <th>NFP</th>\n",
       "    </tr>\n",
       "    <tr>\n",
       "      <th>date</th>\n",
       "      <th></th>\n",
       "    </tr>\n",
       "  </thead>\n",
       "  <tbody>\n",
       "    <tr>\n",
       "      <th>2016-01-01</th>\n",
       "      <td>143170.000000</td>\n",
       "    </tr>\n",
       "    <tr>\n",
       "      <th>2016-01-04</th>\n",
       "      <td>143195.451613</td>\n",
       "    </tr>\n",
       "    <tr>\n",
       "      <th>2016-01-05</th>\n",
       "      <td>143203.935484</td>\n",
       "    </tr>\n",
       "    <tr>\n",
       "      <th>2016-01-06</th>\n",
       "      <td>143212.419355</td>\n",
       "    </tr>\n",
       "    <tr>\n",
       "      <th>2016-01-07</th>\n",
       "      <td>143220.903226</td>\n",
       "    </tr>\n",
       "  </tbody>\n",
       "</table>\n",
       "</div>"
      ],
      "text/plain": [
       "                      NFP\n",
       "date                     \n",
       "2016-01-01  143170.000000\n",
       "2016-01-04  143195.451613\n",
       "2016-01-05  143203.935484\n",
       "2016-01-06  143212.419355\n",
       "2016-01-07  143220.903226"
      ]
     },
     "execution_count": 207,
     "metadata": {},
     "output_type": "execute_result"
    }
   ],
   "source": [
    "nfp_data = Path(\"Data/1_data_cleanup/nonfarm_payrolls.csv\")\n",
    "nfp_df = pd.read_csv(nfp_data)\n",
    "nfp_df.rename(columns={'Date':'date'}, inplace=True)\n",
    "nfp_df['date'] = pd.to_datetime(nfp_df['date'])\n",
    "nfp_df = nfp_df.set_index('date')\n",
    "nfp_df = pd.concat([nfp_df, djia_df], axis=1, join=\"outer\")\n",
    "nfp_df = nfp_df.drop(columns='DJIA')\n",
    "nfp_df = nfp_df.interpolate(method='time')\n",
    "nfp_df = nfp_df.loc[\"2016-01-01\":\"2020-06-30\"]\n",
    "nfp_df.head()"
   ]
  },
  {
   "cell_type": "code",
   "execution_count": 208,
   "metadata": {},
   "outputs": [
    {
     "data": {
      "text/plain": [
       "NFP    float64\n",
       "dtype: object"
      ]
     },
     "execution_count": 208,
     "metadata": {},
     "output_type": "execute_result"
    }
   ],
   "source": [
    "nfp_df.dtypes"
   ]
  },
  {
   "cell_type": "markdown",
   "metadata": {},
   "source": [
    "# Initial Unemployment Claims"
   ]
  },
  {
   "cell_type": "code",
   "execution_count": 209,
   "metadata": {},
   "outputs": [
    {
     "data": {
      "text/html": [
       "<div>\n",
       "<style scoped>\n",
       "    .dataframe tbody tr th:only-of-type {\n",
       "        vertical-align: middle;\n",
       "    }\n",
       "\n",
       "    .dataframe tbody tr th {\n",
       "        vertical-align: top;\n",
       "    }\n",
       "\n",
       "    .dataframe thead th {\n",
       "        text-align: right;\n",
       "    }\n",
       "</style>\n",
       "<table border=\"1\" class=\"dataframe\">\n",
       "  <thead>\n",
       "    <tr style=\"text-align: right;\">\n",
       "      <th></th>\n",
       "      <th>IUC</th>\n",
       "    </tr>\n",
       "    <tr>\n",
       "      <th>date</th>\n",
       "      <th></th>\n",
       "    </tr>\n",
       "  </thead>\n",
       "  <tbody>\n",
       "    <tr>\n",
       "      <th>2016-01-02</th>\n",
       "      <td>273000.000000</td>\n",
       "    </tr>\n",
       "    <tr>\n",
       "      <th>2016-01-04</th>\n",
       "      <td>276142.857143</td>\n",
       "    </tr>\n",
       "    <tr>\n",
       "      <th>2016-01-05</th>\n",
       "      <td>277714.285714</td>\n",
       "    </tr>\n",
       "    <tr>\n",
       "      <th>2016-01-06</th>\n",
       "      <td>279285.714286</td>\n",
       "    </tr>\n",
       "    <tr>\n",
       "      <th>2016-01-07</th>\n",
       "      <td>280857.142857</td>\n",
       "    </tr>\n",
       "  </tbody>\n",
       "</table>\n",
       "</div>"
      ],
      "text/plain": [
       "                      IUC\n",
       "date                     \n",
       "2016-01-02  273000.000000\n",
       "2016-01-04  276142.857143\n",
       "2016-01-05  277714.285714\n",
       "2016-01-06  279285.714286\n",
       "2016-01-07  280857.142857"
      ]
     },
     "execution_count": 209,
     "metadata": {},
     "output_type": "execute_result"
    }
   ],
   "source": [
    "iuc_data = Path(\"Data/1_data_cleanup/initial_claims.csv\")\n",
    "iuc_df = pd.read_csv(iuc_data)\n",
    "iuc_df.rename(columns={'Date':'date'}, inplace=True)\n",
    "iuc_df['date'] = pd.to_datetime(iuc_df['date'])\n",
    "iuc_df = iuc_df.set_index('date')\n",
    "iuc_df = pd.concat([iuc_df, djia_df], axis=1, join=\"outer\")\n",
    "iuc_df = iuc_df.drop(columns='DJIA')\n",
    "iuc_df = iuc_df.interpolate(method='time')\n",
    "iuc_df = iuc_df.loc[\"2016-01-01\":\"2020-06-30\"]\n",
    "iuc_df.head()"
   ]
  },
  {
   "cell_type": "code",
   "execution_count": 210,
   "metadata": {},
   "outputs": [
    {
     "data": {
      "text/plain": [
       "IUC    float64\n",
       "dtype: object"
      ]
     },
     "execution_count": 210,
     "metadata": {},
     "output_type": "execute_result"
    }
   ],
   "source": [
    "iuc_df.dtypes"
   ]
  },
  {
   "cell_type": "markdown",
   "metadata": {},
   "source": [
    "# FED Total Assets"
   ]
  },
  {
   "cell_type": "code",
   "execution_count": 211,
   "metadata": {},
   "outputs": [
    {
     "data": {
      "text/html": [
       "<div>\n",
       "<style scoped>\n",
       "    .dataframe tbody tr th:only-of-type {\n",
       "        vertical-align: middle;\n",
       "    }\n",
       "\n",
       "    .dataframe tbody tr th {\n",
       "        vertical-align: top;\n",
       "    }\n",
       "\n",
       "    .dataframe thead th {\n",
       "        text-align: right;\n",
       "    }\n",
       "</style>\n",
       "<table border=\"1\" class=\"dataframe\">\n",
       "  <thead>\n",
       "    <tr style=\"text-align: right;\">\n",
       "      <th></th>\n",
       "      <th>FED</th>\n",
       "    </tr>\n",
       "    <tr>\n",
       "      <th>date</th>\n",
       "      <th></th>\n",
       "    </tr>\n",
       "  </thead>\n",
       "  <tbody>\n",
       "    <tr>\n",
       "      <th>2016-01-04</th>\n",
       "      <td>4.486601e+12</td>\n",
       "    </tr>\n",
       "    <tr>\n",
       "      <th>2016-01-05</th>\n",
       "      <td>4.486603e+12</td>\n",
       "    </tr>\n",
       "    <tr>\n",
       "      <th>2016-01-06</th>\n",
       "      <td>4.486606e+12</td>\n",
       "    </tr>\n",
       "    <tr>\n",
       "      <th>2016-01-07</th>\n",
       "      <td>4.488762e+12</td>\n",
       "    </tr>\n",
       "    <tr>\n",
       "      <th>2016-01-08</th>\n",
       "      <td>4.490917e+12</td>\n",
       "    </tr>\n",
       "  </tbody>\n",
       "</table>\n",
       "</div>"
      ],
      "text/plain": [
       "                     FED\n",
       "date                    \n",
       "2016-01-04  4.486601e+12\n",
       "2016-01-05  4.486603e+12\n",
       "2016-01-06  4.486606e+12\n",
       "2016-01-07  4.488762e+12\n",
       "2016-01-08  4.490917e+12"
      ]
     },
     "execution_count": 211,
     "metadata": {},
     "output_type": "execute_result"
    }
   ],
   "source": [
    "fed_data = Path(\"Data/1_data_cleanup/fed_total_assets.csv\")\n",
    "fed_df = pd.read_csv(fed_data)\n",
    "fed_df = fed_df.rename(columns={'Date':'date'}, inplace=True)\n",
    "fed_df['date'] = pd.to_datetime(fed_df['date'])\n",
    "fed_df = fed_df.set_index('date')\n",
    "fed_df = pd.concat([fed_df, djia_df], axis=1, join=\"outer\")\n",
    "fed_df = fed_df.drop(columns='DJIA')\n",
    "fed_df = fed_df.interpolate(method='time')\n",
    "fed_df = fed_df.loc[\"2016-01-01\":\"2020-06-30\"]\n",
    "fed_df['FED'] = fed_df['FED']*1000000\n",
    "fed_df.head()"
   ]
  },
  {
   "cell_type": "code",
   "execution_count": 212,
   "metadata": {},
   "outputs": [
    {
     "data": {
      "text/plain": [
       "FED    float64\n",
       "dtype: object"
      ]
     },
     "execution_count": 212,
     "metadata": {},
     "output_type": "execute_result"
    }
   ],
   "source": [
    "fed_df.dtypes"
   ]
  },
  {
   "cell_type": "markdown",
   "metadata": {},
   "source": [
    "# COMBINED"
   ]
  },
  {
   "cell_type": "code",
   "execution_count": 213,
   "metadata": {},
   "outputs": [
    {
     "data": {
      "text/html": [
       "<div>\n",
       "<style scoped>\n",
       "    .dataframe tbody tr th:only-of-type {\n",
       "        vertical-align: middle;\n",
       "    }\n",
       "\n",
       "    .dataframe tbody tr th {\n",
       "        vertical-align: top;\n",
       "    }\n",
       "\n",
       "    .dataframe thead th {\n",
       "        text-align: right;\n",
       "    }\n",
       "</style>\n",
       "<table border=\"1\" class=\"dataframe\">\n",
       "  <thead>\n",
       "    <tr style=\"text-align: right;\">\n",
       "      <th></th>\n",
       "      <th>DJIA</th>\n",
       "      <th>NASDAQ</th>\n",
       "      <th>S&amp;P500</th>\n",
       "      <th>CBOE</th>\n",
       "      <th>GOLD</th>\n",
       "      <th>SILVER</th>\n",
       "      <th>DOLLAR</th>\n",
       "      <th>WTI</th>\n",
       "      <th>10YR</th>\n",
       "      <th>BTC</th>\n",
       "      <th>GDP</th>\n",
       "      <th>CPI</th>\n",
       "      <th>IPI</th>\n",
       "      <th>UNEMP</th>\n",
       "      <th>NFP</th>\n",
       "      <th>IUC</th>\n",
       "      <th>FED</th>\n",
       "    </tr>\n",
       "    <tr>\n",
       "      <th>date</th>\n",
       "      <th></th>\n",
       "      <th></th>\n",
       "      <th></th>\n",
       "      <th></th>\n",
       "      <th></th>\n",
       "      <th></th>\n",
       "      <th></th>\n",
       "      <th></th>\n",
       "      <th></th>\n",
       "      <th></th>\n",
       "      <th></th>\n",
       "      <th></th>\n",
       "      <th></th>\n",
       "      <th></th>\n",
       "      <th></th>\n",
       "      <th></th>\n",
       "      <th></th>\n",
       "    </tr>\n",
       "  </thead>\n",
       "  <tbody>\n",
       "    <tr>\n",
       "      <th>2016-01-04</th>\n",
       "      <td>17148.94</td>\n",
       "      <td>4903.09</td>\n",
       "      <td>2012.66</td>\n",
       "      <td>20.70</td>\n",
       "      <td>1135.5</td>\n",
       "      <td>14.88</td>\n",
       "      <td>98.87</td>\n",
       "      <td>36.76</td>\n",
       "      <td>2.24</td>\n",
       "      <td>432.9</td>\n",
       "      <td>18382.82</td>\n",
       "      <td>237.80</td>\n",
       "      <td>102.88</td>\n",
       "      <td>4.9</td>\n",
       "      <td>143195.45</td>\n",
       "      <td>276142.86</td>\n",
       "      <td>4.486601e+12</td>\n",
       "    </tr>\n",
       "    <tr>\n",
       "      <th>2016-01-05</th>\n",
       "      <td>17158.66</td>\n",
       "      <td>4891.43</td>\n",
       "      <td>2016.71</td>\n",
       "      <td>19.34</td>\n",
       "      <td>1138.4</td>\n",
       "      <td>15.01</td>\n",
       "      <td>99.40</td>\n",
       "      <td>35.97</td>\n",
       "      <td>2.24</td>\n",
       "      <td>431.8</td>\n",
       "      <td>18383.82</td>\n",
       "      <td>237.79</td>\n",
       "      <td>102.86</td>\n",
       "      <td>4.9</td>\n",
       "      <td>143203.94</td>\n",
       "      <td>277714.29</td>\n",
       "      <td>4.486603e+12</td>\n",
       "    </tr>\n",
       "    <tr>\n",
       "      <th>2016-01-06</th>\n",
       "      <td>16906.51</td>\n",
       "      <td>4835.77</td>\n",
       "      <td>1990.26</td>\n",
       "      <td>20.59</td>\n",
       "      <td>1151.9</td>\n",
       "      <td>15.00</td>\n",
       "      <td>99.18</td>\n",
       "      <td>33.97</td>\n",
       "      <td>2.17</td>\n",
       "      <td>428.0</td>\n",
       "      <td>18384.82</td>\n",
       "      <td>237.78</td>\n",
       "      <td>102.83</td>\n",
       "      <td>4.9</td>\n",
       "      <td>143212.42</td>\n",
       "      <td>279285.71</td>\n",
       "      <td>4.486606e+12</td>\n",
       "    </tr>\n",
       "    <tr>\n",
       "      <th>2016-01-07</th>\n",
       "      <td>16514.10</td>\n",
       "      <td>4689.43</td>\n",
       "      <td>1943.09</td>\n",
       "      <td>24.99</td>\n",
       "      <td>1162.7</td>\n",
       "      <td>15.37</td>\n",
       "      <td>98.22</td>\n",
       "      <td>33.27</td>\n",
       "      <td>2.15</td>\n",
       "      <td>459.0</td>\n",
       "      <td>18385.83</td>\n",
       "      <td>237.77</td>\n",
       "      <td>102.81</td>\n",
       "      <td>4.9</td>\n",
       "      <td>143220.90</td>\n",
       "      <td>280857.14</td>\n",
       "      <td>4.488762e+12</td>\n",
       "    </tr>\n",
       "    <tr>\n",
       "      <th>2016-01-08</th>\n",
       "      <td>16346.45</td>\n",
       "      <td>4643.63</td>\n",
       "      <td>1922.03</td>\n",
       "      <td>27.01</td>\n",
       "      <td>1151.7</td>\n",
       "      <td>14.94</td>\n",
       "      <td>98.54</td>\n",
       "      <td>33.16</td>\n",
       "      <td>2.12</td>\n",
       "      <td>454.0</td>\n",
       "      <td>18386.83</td>\n",
       "      <td>237.76</td>\n",
       "      <td>102.79</td>\n",
       "      <td>4.9</td>\n",
       "      <td>143229.39</td>\n",
       "      <td>282428.57</td>\n",
       "      <td>4.490917e+12</td>\n",
       "    </tr>\n",
       "  </tbody>\n",
       "</table>\n",
       "</div>"
      ],
      "text/plain": [
       "                DJIA   NASDAQ   S&P500   CBOE    GOLD  SILVER  DOLLAR    WTI  \\\n",
       "date                                                                           \n",
       "2016-01-04  17148.94  4903.09  2012.66  20.70  1135.5   14.88   98.87  36.76   \n",
       "2016-01-05  17158.66  4891.43  2016.71  19.34  1138.4   15.01   99.40  35.97   \n",
       "2016-01-06  16906.51  4835.77  1990.26  20.59  1151.9   15.00   99.18  33.97   \n",
       "2016-01-07  16514.10  4689.43  1943.09  24.99  1162.7   15.37   98.22  33.27   \n",
       "2016-01-08  16346.45  4643.63  1922.03  27.01  1151.7   14.94   98.54  33.16   \n",
       "\n",
       "            10YR    BTC       GDP     CPI     IPI  UNEMP        NFP  \\\n",
       "date                                                                  \n",
       "2016-01-04  2.24  432.9  18382.82  237.80  102.88    4.9  143195.45   \n",
       "2016-01-05  2.24  431.8  18383.82  237.79  102.86    4.9  143203.94   \n",
       "2016-01-06  2.17  428.0  18384.82  237.78  102.83    4.9  143212.42   \n",
       "2016-01-07  2.15  459.0  18385.83  237.77  102.81    4.9  143220.90   \n",
       "2016-01-08  2.12  454.0  18386.83  237.76  102.79    4.9  143229.39   \n",
       "\n",
       "                  IUC           FED  \n",
       "date                                 \n",
       "2016-01-04  276142.86  4.486601e+12  \n",
       "2016-01-05  277714.29  4.486603e+12  \n",
       "2016-01-06  279285.71  4.486606e+12  \n",
       "2016-01-07  280857.14  4.488762e+12  \n",
       "2016-01-08  282428.57  4.490917e+12  "
      ]
     },
     "execution_count": 213,
     "metadata": {},
     "output_type": "execute_result"
    }
   ],
   "source": [
    "data_df = pd.concat([djia_df, nasdaq_df, sp500_df, cboe_df, gold_df, silver_df, dollar_df, wti_df, ten_df, btc_df, gdp_df, cpi_df, ipi_df, unemp_df, nfp_df, iuc_df, fed_df], axis=1, join=\"outer\").interpolate(method='time').dropna(axis='rows').round(2)\n",
    "data_df.head()"
   ]
  },
  {
   "cell_type": "code",
   "execution_count": 214,
   "metadata": {},
   "outputs": [],
   "source": [
    "data_df.to_csv(r'Data/1_data_cleanup/data_df.csv')"
   ]
  },
  {
   "cell_type": "markdown",
   "metadata": {},
   "source": [
    "# CORRELATION"
   ]
  },
  {
   "cell_type": "code",
   "execution_count": 233,
   "metadata": {},
   "outputs": [
    {
     "data": {
      "text/html": [
       "<div>\n",
       "<style scoped>\n",
       "    .dataframe tbody tr th:only-of-type {\n",
       "        vertical-align: middle;\n",
       "    }\n",
       "\n",
       "    .dataframe tbody tr th {\n",
       "        vertical-align: top;\n",
       "    }\n",
       "\n",
       "    .dataframe thead th {\n",
       "        text-align: right;\n",
       "    }\n",
       "</style>\n",
       "<table border=\"1\" class=\"dataframe\">\n",
       "  <thead>\n",
       "    <tr style=\"text-align: right;\">\n",
       "      <th></th>\n",
       "      <th>DJIA</th>\n",
       "      <th>NASDAQ</th>\n",
       "      <th>S&amp;P500</th>\n",
       "      <th>CBOE</th>\n",
       "      <th>GOLD</th>\n",
       "      <th>SILVER</th>\n",
       "      <th>DOLLAR</th>\n",
       "      <th>WTI</th>\n",
       "      <th>10YR</th>\n",
       "      <th>BTC</th>\n",
       "      <th>GDP</th>\n",
       "      <th>CPI</th>\n",
       "      <th>IPI</th>\n",
       "      <th>UNEMP</th>\n",
       "      <th>NFP</th>\n",
       "      <th>IUC</th>\n",
       "      <th>FED</th>\n",
       "    </tr>\n",
       "  </thead>\n",
       "  <tbody>\n",
       "    <tr>\n",
       "      <th>DJIA</th>\n",
       "      <td>1.000000</td>\n",
       "      <td>0.936812</td>\n",
       "      <td>0.982218</td>\n",
       "      <td>-0.011960</td>\n",
       "      <td>0.504549</td>\n",
       "      <td>-0.248630</td>\n",
       "      <td>-0.123895</td>\n",
       "      <td>0.532168</td>\n",
       "      <td>0.179043</td>\n",
       "      <td>0.812279</td>\n",
       "      <td>0.906334</td>\n",
       "      <td>0.929718</td>\n",
       "      <td>0.611114</td>\n",
       "      <td>-0.150937</td>\n",
       "      <td>0.546885</td>\n",
       "      <td>-0.006826</td>\n",
       "      <td>-0.155065</td>\n",
       "    </tr>\n",
       "    <tr>\n",
       "      <th>NASDAQ</th>\n",
       "      <td>0.936812</td>\n",
       "      <td>1.000000</td>\n",
       "      <td>0.978025</td>\n",
       "      <td>0.211450</td>\n",
       "      <td>0.702396</td>\n",
       "      <td>-0.256338</td>\n",
       "      <td>-0.003147</td>\n",
       "      <td>0.296667</td>\n",
       "      <td>-0.085511</td>\n",
       "      <td>0.790628</td>\n",
       "      <td>0.875446</td>\n",
       "      <td>0.958050</td>\n",
       "      <td>0.342919</td>\n",
       "      <td>0.156762</td>\n",
       "      <td>0.274269</td>\n",
       "      <td>0.232854</td>\n",
       "      <td>0.144194</td>\n",
       "    </tr>\n",
       "    <tr>\n",
       "      <th>S&amp;P500</th>\n",
       "      <td>0.982218</td>\n",
       "      <td>0.978025</td>\n",
       "      <td>1.000000</td>\n",
       "      <td>0.059400</td>\n",
       "      <td>0.618697</td>\n",
       "      <td>-0.209102</td>\n",
       "      <td>-0.044090</td>\n",
       "      <td>0.424923</td>\n",
       "      <td>0.021838</td>\n",
       "      <td>0.802687</td>\n",
       "      <td>0.897080</td>\n",
       "      <td>0.948654</td>\n",
       "      <td>0.487037</td>\n",
       "      <td>-0.022763</td>\n",
       "      <td>0.438527</td>\n",
       "      <td>0.088194</td>\n",
       "      <td>-0.027680</td>\n",
       "    </tr>\n",
       "    <tr>\n",
       "      <th>CBOE</th>\n",
       "      <td>-0.011960</td>\n",
       "      <td>0.211450</td>\n",
       "      <td>0.059400</td>\n",
       "      <td>1.000000</td>\n",
       "      <td>0.477520</td>\n",
       "      <td>-0.371650</td>\n",
       "      <td>0.187398</td>\n",
       "      <td>-0.528647</td>\n",
       "      <td>-0.490057</td>\n",
       "      <td>0.125970</td>\n",
       "      <td>0.246664</td>\n",
       "      <td>0.289036</td>\n",
       "      <td>-0.456608</td>\n",
       "      <td>0.703063</td>\n",
       "      <td>-0.522697</td>\n",
       "      <td>0.680491</td>\n",
       "      <td>0.465127</td>\n",
       "    </tr>\n",
       "    <tr>\n",
       "      <th>GOLD</th>\n",
       "      <td>0.504549</td>\n",
       "      <td>0.702396</td>\n",
       "      <td>0.618697</td>\n",
       "      <td>0.477520</td>\n",
       "      <td>1.000000</td>\n",
       "      <td>0.163947</td>\n",
       "      <td>0.064435</td>\n",
       "      <td>-0.243927</td>\n",
       "      <td>-0.652774</td>\n",
       "      <td>0.557613</td>\n",
       "      <td>0.525372</td>\n",
       "      <td>0.657276</td>\n",
       "      <td>-0.241612</td>\n",
       "      <td>0.566436</td>\n",
       "      <td>-0.227195</td>\n",
       "      <td>0.533708</td>\n",
       "      <td>0.511319</td>\n",
       "    </tr>\n",
       "    <tr>\n",
       "      <th>SILVER</th>\n",
       "      <td>-0.248630</td>\n",
       "      <td>-0.256338</td>\n",
       "      <td>-0.209102</td>\n",
       "      <td>-0.371650</td>\n",
       "      <td>0.163947</td>\n",
       "      <td>1.000000</td>\n",
       "      <td>-0.083639</td>\n",
       "      <td>-0.009910</td>\n",
       "      <td>-0.234812</td>\n",
       "      <td>-0.203435</td>\n",
       "      <td>-0.391753</td>\n",
       "      <td>-0.333520</td>\n",
       "      <td>-0.179090</td>\n",
       "      <td>-0.113195</td>\n",
       "      <td>-0.026424</td>\n",
       "      <td>-0.227967</td>\n",
       "      <td>0.058332</td>\n",
       "    </tr>\n",
       "    <tr>\n",
       "      <th>DOLLAR</th>\n",
       "      <td>-0.123895</td>\n",
       "      <td>-0.003147</td>\n",
       "      <td>-0.044090</td>\n",
       "      <td>0.187398</td>\n",
       "      <td>0.064435</td>\n",
       "      <td>-0.083639</td>\n",
       "      <td>1.000000</td>\n",
       "      <td>-0.394622</td>\n",
       "      <td>-0.362964</td>\n",
       "      <td>-0.296411</td>\n",
       "      <td>0.055004</td>\n",
       "      <td>0.067322</td>\n",
       "      <td>-0.264543</td>\n",
       "      <td>0.273051</td>\n",
       "      <td>-0.203615</td>\n",
       "      <td>0.251104</td>\n",
       "      <td>0.129294</td>\n",
       "    </tr>\n",
       "    <tr>\n",
       "      <th>WTI</th>\n",
       "      <td>0.532168</td>\n",
       "      <td>0.296667</td>\n",
       "      <td>0.424923</td>\n",
       "      <td>-0.528647</td>\n",
       "      <td>-0.243927</td>\n",
       "      <td>-0.009910</td>\n",
       "      <td>-0.394622</td>\n",
       "      <td>1.000000</td>\n",
       "      <td>0.744229</td>\n",
       "      <td>0.371886</td>\n",
       "      <td>0.348615</td>\n",
       "      <td>0.294784</td>\n",
       "      <td>0.814744</td>\n",
       "      <td>-0.707404</td>\n",
       "      <td>0.770863</td>\n",
       "      <td>-0.569939</td>\n",
       "      <td>-0.580823</td>\n",
       "    </tr>\n",
       "    <tr>\n",
       "      <th>10YR</th>\n",
       "      <td>0.179043</td>\n",
       "      <td>-0.085511</td>\n",
       "      <td>0.021838</td>\n",
       "      <td>-0.490057</td>\n",
       "      <td>-0.652774</td>\n",
       "      <td>-0.234812</td>\n",
       "      <td>-0.362964</td>\n",
       "      <td>0.744229</td>\n",
       "      <td>1.000000</td>\n",
       "      <td>0.018661</td>\n",
       "      <td>0.043963</td>\n",
       "      <td>-0.062427</td>\n",
       "      <td>0.687829</td>\n",
       "      <td>-0.681385</td>\n",
       "      <td>0.585703</td>\n",
       "      <td>-0.544386</td>\n",
       "      <td>-0.567021</td>\n",
       "    </tr>\n",
       "    <tr>\n",
       "      <th>BTC</th>\n",
       "      <td>0.812279</td>\n",
       "      <td>0.790628</td>\n",
       "      <td>0.802687</td>\n",
       "      <td>0.125970</td>\n",
       "      <td>0.557613</td>\n",
       "      <td>-0.203435</td>\n",
       "      <td>-0.296411</td>\n",
       "      <td>0.371886</td>\n",
       "      <td>0.018661</td>\n",
       "      <td>1.000000</td>\n",
       "      <td>0.707077</td>\n",
       "      <td>0.757564</td>\n",
       "      <td>0.359918</td>\n",
       "      <td>0.030321</td>\n",
       "      <td>0.289232</td>\n",
       "      <td>0.126508</td>\n",
       "      <td>0.029776</td>\n",
       "    </tr>\n",
       "    <tr>\n",
       "      <th>GDP</th>\n",
       "      <td>0.906334</td>\n",
       "      <td>0.875446</td>\n",
       "      <td>0.897080</td>\n",
       "      <td>0.246664</td>\n",
       "      <td>0.525372</td>\n",
       "      <td>-0.391753</td>\n",
       "      <td>0.055004</td>\n",
       "      <td>0.348615</td>\n",
       "      <td>0.043963</td>\n",
       "      <td>0.707077</td>\n",
       "      <td>1.000000</td>\n",
       "      <td>0.962407</td>\n",
       "      <td>0.527792</td>\n",
       "      <td>-0.042611</td>\n",
       "      <td>0.468973</td>\n",
       "      <td>0.164350</td>\n",
       "      <td>-0.216507</td>\n",
       "    </tr>\n",
       "    <tr>\n",
       "      <th>CPI</th>\n",
       "      <td>0.929718</td>\n",
       "      <td>0.958050</td>\n",
       "      <td>0.948654</td>\n",
       "      <td>0.289036</td>\n",
       "      <td>0.657276</td>\n",
       "      <td>-0.333520</td>\n",
       "      <td>0.067322</td>\n",
       "      <td>0.294784</td>\n",
       "      <td>-0.062427</td>\n",
       "      <td>0.757564</td>\n",
       "      <td>0.962407</td>\n",
       "      <td>1.000000</td>\n",
       "      <td>0.419107</td>\n",
       "      <td>0.099411</td>\n",
       "      <td>0.351154</td>\n",
       "      <td>0.228820</td>\n",
       "      <td>-0.001870</td>\n",
       "    </tr>\n",
       "    <tr>\n",
       "      <th>IPI</th>\n",
       "      <td>0.611114</td>\n",
       "      <td>0.342919</td>\n",
       "      <td>0.487037</td>\n",
       "      <td>-0.456608</td>\n",
       "      <td>-0.241612</td>\n",
       "      <td>-0.179090</td>\n",
       "      <td>-0.264543</td>\n",
       "      <td>0.814744</td>\n",
       "      <td>0.687829</td>\n",
       "      <td>0.359918</td>\n",
       "      <td>0.527792</td>\n",
       "      <td>0.419107</td>\n",
       "      <td>1.000000</td>\n",
       "      <td>-0.828597</td>\n",
       "      <td>0.958979</td>\n",
       "      <td>-0.659546</td>\n",
       "      <td>-0.777151</td>\n",
       "    </tr>\n",
       "    <tr>\n",
       "      <th>UNEMP</th>\n",
       "      <td>-0.150937</td>\n",
       "      <td>0.156762</td>\n",
       "      <td>-0.022763</td>\n",
       "      <td>0.703063</td>\n",
       "      <td>0.566436</td>\n",
       "      <td>-0.113195</td>\n",
       "      <td>0.273051</td>\n",
       "      <td>-0.707404</td>\n",
       "      <td>-0.681385</td>\n",
       "      <td>0.030321</td>\n",
       "      <td>-0.042611</td>\n",
       "      <td>0.099411</td>\n",
       "      <td>-0.828597</td>\n",
       "      <td>1.000000</td>\n",
       "      <td>-0.894367</td>\n",
       "      <td>0.898087</td>\n",
       "      <td>0.895459</td>\n",
       "    </tr>\n",
       "    <tr>\n",
       "      <th>NFP</th>\n",
       "      <td>0.546885</td>\n",
       "      <td>0.274269</td>\n",
       "      <td>0.438527</td>\n",
       "      <td>-0.522697</td>\n",
       "      <td>-0.227195</td>\n",
       "      <td>-0.026424</td>\n",
       "      <td>-0.203615</td>\n",
       "      <td>0.770863</td>\n",
       "      <td>0.585703</td>\n",
       "      <td>0.289232</td>\n",
       "      <td>0.468973</td>\n",
       "      <td>0.351154</td>\n",
       "      <td>0.958979</td>\n",
       "      <td>-0.894367</td>\n",
       "      <td>1.000000</td>\n",
       "      <td>-0.748012</td>\n",
       "      <td>-0.846374</td>\n",
       "    </tr>\n",
       "    <tr>\n",
       "      <th>IUC</th>\n",
       "      <td>-0.006826</td>\n",
       "      <td>0.232854</td>\n",
       "      <td>0.088194</td>\n",
       "      <td>0.680491</td>\n",
       "      <td>0.533708</td>\n",
       "      <td>-0.227967</td>\n",
       "      <td>0.251104</td>\n",
       "      <td>-0.569939</td>\n",
       "      <td>-0.544386</td>\n",
       "      <td>0.126508</td>\n",
       "      <td>0.164350</td>\n",
       "      <td>0.228820</td>\n",
       "      <td>-0.659546</td>\n",
       "      <td>0.898087</td>\n",
       "      <td>-0.748012</td>\n",
       "      <td>1.000000</td>\n",
       "      <td>0.681657</td>\n",
       "    </tr>\n",
       "    <tr>\n",
       "      <th>FED</th>\n",
       "      <td>-0.155065</td>\n",
       "      <td>0.144194</td>\n",
       "      <td>-0.027680</td>\n",
       "      <td>0.465127</td>\n",
       "      <td>0.511319</td>\n",
       "      <td>0.058332</td>\n",
       "      <td>0.129294</td>\n",
       "      <td>-0.580823</td>\n",
       "      <td>-0.567021</td>\n",
       "      <td>0.029776</td>\n",
       "      <td>-0.216507</td>\n",
       "      <td>-0.001870</td>\n",
       "      <td>-0.777151</td>\n",
       "      <td>0.895459</td>\n",
       "      <td>-0.846374</td>\n",
       "      <td>0.681657</td>\n",
       "      <td>1.000000</td>\n",
       "    </tr>\n",
       "  </tbody>\n",
       "</table>\n",
       "</div>"
      ],
      "text/plain": [
       "            DJIA    NASDAQ    S&P500      CBOE      GOLD    SILVER    DOLLAR  \\\n",
       "DJIA    1.000000  0.936812  0.982218 -0.011960  0.504549 -0.248630 -0.123895   \n",
       "NASDAQ  0.936812  1.000000  0.978025  0.211450  0.702396 -0.256338 -0.003147   \n",
       "S&P500  0.982218  0.978025  1.000000  0.059400  0.618697 -0.209102 -0.044090   \n",
       "CBOE   -0.011960  0.211450  0.059400  1.000000  0.477520 -0.371650  0.187398   \n",
       "GOLD    0.504549  0.702396  0.618697  0.477520  1.000000  0.163947  0.064435   \n",
       "SILVER -0.248630 -0.256338 -0.209102 -0.371650  0.163947  1.000000 -0.083639   \n",
       "DOLLAR -0.123895 -0.003147 -0.044090  0.187398  0.064435 -0.083639  1.000000   \n",
       "WTI     0.532168  0.296667  0.424923 -0.528647 -0.243927 -0.009910 -0.394622   \n",
       "10YR    0.179043 -0.085511  0.021838 -0.490057 -0.652774 -0.234812 -0.362964   \n",
       "BTC     0.812279  0.790628  0.802687  0.125970  0.557613 -0.203435 -0.296411   \n",
       "GDP     0.906334  0.875446  0.897080  0.246664  0.525372 -0.391753  0.055004   \n",
       "CPI     0.929718  0.958050  0.948654  0.289036  0.657276 -0.333520  0.067322   \n",
       "IPI     0.611114  0.342919  0.487037 -0.456608 -0.241612 -0.179090 -0.264543   \n",
       "UNEMP  -0.150937  0.156762 -0.022763  0.703063  0.566436 -0.113195  0.273051   \n",
       "NFP     0.546885  0.274269  0.438527 -0.522697 -0.227195 -0.026424 -0.203615   \n",
       "IUC    -0.006826  0.232854  0.088194  0.680491  0.533708 -0.227967  0.251104   \n",
       "FED    -0.155065  0.144194 -0.027680  0.465127  0.511319  0.058332  0.129294   \n",
       "\n",
       "             WTI      10YR       BTC       GDP       CPI       IPI     UNEMP  \\\n",
       "DJIA    0.532168  0.179043  0.812279  0.906334  0.929718  0.611114 -0.150937   \n",
       "NASDAQ  0.296667 -0.085511  0.790628  0.875446  0.958050  0.342919  0.156762   \n",
       "S&P500  0.424923  0.021838  0.802687  0.897080  0.948654  0.487037 -0.022763   \n",
       "CBOE   -0.528647 -0.490057  0.125970  0.246664  0.289036 -0.456608  0.703063   \n",
       "GOLD   -0.243927 -0.652774  0.557613  0.525372  0.657276 -0.241612  0.566436   \n",
       "SILVER -0.009910 -0.234812 -0.203435 -0.391753 -0.333520 -0.179090 -0.113195   \n",
       "DOLLAR -0.394622 -0.362964 -0.296411  0.055004  0.067322 -0.264543  0.273051   \n",
       "WTI     1.000000  0.744229  0.371886  0.348615  0.294784  0.814744 -0.707404   \n",
       "10YR    0.744229  1.000000  0.018661  0.043963 -0.062427  0.687829 -0.681385   \n",
       "BTC     0.371886  0.018661  1.000000  0.707077  0.757564  0.359918  0.030321   \n",
       "GDP     0.348615  0.043963  0.707077  1.000000  0.962407  0.527792 -0.042611   \n",
       "CPI     0.294784 -0.062427  0.757564  0.962407  1.000000  0.419107  0.099411   \n",
       "IPI     0.814744  0.687829  0.359918  0.527792  0.419107  1.000000 -0.828597   \n",
       "UNEMP  -0.707404 -0.681385  0.030321 -0.042611  0.099411 -0.828597  1.000000   \n",
       "NFP     0.770863  0.585703  0.289232  0.468973  0.351154  0.958979 -0.894367   \n",
       "IUC    -0.569939 -0.544386  0.126508  0.164350  0.228820 -0.659546  0.898087   \n",
       "FED    -0.580823 -0.567021  0.029776 -0.216507 -0.001870 -0.777151  0.895459   \n",
       "\n",
       "             NFP       IUC       FED  \n",
       "DJIA    0.546885 -0.006826 -0.155065  \n",
       "NASDAQ  0.274269  0.232854  0.144194  \n",
       "S&P500  0.438527  0.088194 -0.027680  \n",
       "CBOE   -0.522697  0.680491  0.465127  \n",
       "GOLD   -0.227195  0.533708  0.511319  \n",
       "SILVER -0.026424 -0.227967  0.058332  \n",
       "DOLLAR -0.203615  0.251104  0.129294  \n",
       "WTI     0.770863 -0.569939 -0.580823  \n",
       "10YR    0.585703 -0.544386 -0.567021  \n",
       "BTC     0.289232  0.126508  0.029776  \n",
       "GDP     0.468973  0.164350 -0.216507  \n",
       "CPI     0.351154  0.228820 -0.001870  \n",
       "IPI     0.958979 -0.659546 -0.777151  \n",
       "UNEMP  -0.894367  0.898087  0.895459  \n",
       "NFP     1.000000 -0.748012 -0.846374  \n",
       "IUC    -0.748012  1.000000  0.681657  \n",
       "FED    -0.846374  0.681657  1.000000  "
      ]
     },
     "execution_count": 233,
     "metadata": {},
     "output_type": "execute_result"
    }
   ],
   "source": [
    "data_df.corr()"
   ]
  },
  {
   "cell_type": "code",
   "execution_count": 234,
   "metadata": {},
   "outputs": [
    {
     "data": {
      "image/png": "[encoded data removed]",
      "text/plain": [
       "<Figure size 432x288 with 2 Axes>"
      ]
     },
     "metadata": {
      "needs_background": "light"
     },
     "output_type": "display_data"
    }
   ],
   "source": [
    "fig, ax1 = plt.subplots()\n",
    "\n",
    "color = 'tab:red'\n",
    "ax1.set_xlabel('date')\n",
    "ax1.set_ylabel('BTC', color=color)\n",
    "ax1.plot(btc_df, color=color)\n",
    "ax1.tick_params(axis='y', labelcolor=color)\n",
    "\n",
    "ax2 = ax1.twinx()  # instantiate a second axes that shares the same x-axis\n",
    "\n",
    "color = 'tab:blue'\n",
    "ax2.set_ylabel('CPI', color=color)  # we already handled the x-label with ax1\n",
    "ax2.plot(cpi_df, color=color)\n",
    "ax2.tick_params(axis='y', labelcolor=color)\n",
    "\n",
    "fig.tight_layout()  # otherwise the right y-label is slightly clipped\n",
    "plt.show()"
   ]
  },
  {
   "cell_type": "code",
   "execution_count": null,
   "metadata": {},
   "outputs": [],
   "source": []
  }
 ],
 "metadata": {
  "kernelspec": {
   "display_name": "Python 3",
   "language": "python",
   "name": "python3"
  },
  "language_info": {
   "codemirror_mode": {
    "name": "ipython",
    "version": 3
   },
   "file_extension": ".py",
   "mimetype": "text/x-python",
   "name": "python",
   "nbconvert_exporter": "python",
   "pygments_lexer": "ipython3",
   "version": "3.7.7"
  }
 },
 "nbformat": 4,
 "nbformat_minor": 4
}
